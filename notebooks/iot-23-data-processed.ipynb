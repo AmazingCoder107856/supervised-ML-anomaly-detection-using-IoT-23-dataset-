{
 "cells": [
  {
   "cell_type": "code",
   "execution_count": 1,
   "id": "56d1e542-6fa6-4406-87d7-39c1296cf3d3",
   "metadata": {},
   "outputs": [],
   "source": [
    "# Import necessary libraries and modules\n",
    "import pandas as pd\n",
    "import numpy as np\n",
    "import seaborn as sns\n",
    "import ipaddress\n",
    "from sklearn.model_selection import train_test_split\n",
    "from sklearn.neighbors import KNeighborsClassifier\n",
    "from sklearn.metrics import accuracy_score, classification_report\n",
    "from sklearn.impute import KNNImputer\n",
    "from sklearn.preprocessing import LabelEncoder, OneHotEncoder\n",
    "from sklearn.preprocessing import MinMaxScaler\n",
    "import matplotlib.pyplot as plt\n",
    "import networkx as nx"
   ]
  },
  {
   "cell_type": "code",
   "execution_count": 2,
   "id": "c765d40d-c6a8-462d-b8c0-4b2dc69766af",
   "metadata": {},
   "outputs": [],
   "source": [
    "# Set display options\n",
    "pd.set_option('display.max_columns', None)"
   ]
  },
  {
   "cell_type": "code",
   "execution_count": 3,
   "id": "04320d1a-1394-4e61-9799-08ae771e0988",
   "metadata": {},
   "outputs": [],
   "source": [
    "# Read csv\n",
    "df = pd.read_csv('../data/interim/iot23_combined.csv', index_col=0, low_memory=False)"
   ]
  },
  {
   "cell_type": "code",
   "execution_count": 4,
   "id": "d28b3cb8-eb97-448e-9e35-bc123d12001e",
   "metadata": {},
   "outputs": [
    {
     "data": {
      "text/plain": [
       "(1444706, 17)"
      ]
     },
     "execution_count": 4,
     "metadata": {},
     "output_type": "execute_result"
    }
   ],
   "source": [
    "# Check dataset shape\n",
    "df.shape"
   ]
  },
  {
   "cell_type": "code",
   "execution_count": 5,
   "id": "b980d671-ad61-4910-8e2d-661991bba874",
   "metadata": {},
   "outputs": [
    {
     "data": {
      "text/html": [
       "<div>\n",
       "<style scoped>\n",
       "    .dataframe tbody tr th:only-of-type {\n",
       "        vertical-align: middle;\n",
       "    }\n",
       "\n",
       "    .dataframe tbody tr th {\n",
       "        vertical-align: top;\n",
       "    }\n",
       "\n",
       "    .dataframe thead th {\n",
       "        text-align: right;\n",
       "    }\n",
       "</style>\n",
       "<table border=\"1\" class=\"dataframe\">\n",
       "  <thead>\n",
       "    <tr style=\"text-align: right;\">\n",
       "      <th></th>\n",
       "      <th>id.orig_h</th>\n",
       "      <th>id.orig_p</th>\n",
       "      <th>id.resp_h</th>\n",
       "      <th>id.resp_p</th>\n",
       "      <th>proto</th>\n",
       "      <th>service</th>\n",
       "      <th>duration</th>\n",
       "      <th>orig_bytes</th>\n",
       "      <th>resp_bytes</th>\n",
       "      <th>conn_state</th>\n",
       "      <th>missed_bytes</th>\n",
       "      <th>history</th>\n",
       "      <th>orig_pkts</th>\n",
       "      <th>orig_ip_bytes</th>\n",
       "      <th>resp_pkts</th>\n",
       "      <th>resp_ip_bytes</th>\n",
       "      <th>label</th>\n",
       "    </tr>\n",
       "  </thead>\n",
       "  <tbody>\n",
       "    <tr>\n",
       "      <th>0</th>\n",
       "      <td>192.168.100.111</td>\n",
       "      <td>40008</td>\n",
       "      <td>46.28.110.244</td>\n",
       "      <td>123</td>\n",
       "      <td>udp</td>\n",
       "      <td>NaN</td>\n",
       "      <td>0.004751</td>\n",
       "      <td>48.0</td>\n",
       "      <td>48.0</td>\n",
       "      <td>SF</td>\n",
       "      <td>0</td>\n",
       "      <td>Dd</td>\n",
       "      <td>1</td>\n",
       "      <td>76</td>\n",
       "      <td>1</td>\n",
       "      <td>76</td>\n",
       "      <td>Benign</td>\n",
       "    </tr>\n",
       "    <tr>\n",
       "      <th>1</th>\n",
       "      <td>192.168.100.102</td>\n",
       "      <td>57849</td>\n",
       "      <td>192.168.100.111</td>\n",
       "      <td>22</td>\n",
       "      <td>tcp</td>\n",
       "      <td>NaN</td>\n",
       "      <td>108.421563</td>\n",
       "      <td>2376.0</td>\n",
       "      <td>96.0</td>\n",
       "      <td>OTH</td>\n",
       "      <td>0</td>\n",
       "      <td>DAd</td>\n",
       "      <td>5</td>\n",
       "      <td>332</td>\n",
       "      <td>2</td>\n",
       "      <td>200</td>\n",
       "      <td>Benign</td>\n",
       "    </tr>\n",
       "    <tr>\n",
       "      <th>2</th>\n",
       "      <td>192.168.100.102</td>\n",
       "      <td>59670</td>\n",
       "      <td>192.168.100.111</td>\n",
       "      <td>22</td>\n",
       "      <td>tcp</td>\n",
       "      <td>NaN</td>\n",
       "      <td>0.001244</td>\n",
       "      <td>21.0</td>\n",
       "      <td>0.0</td>\n",
       "      <td>S0</td>\n",
       "      <td>0</td>\n",
       "      <td>SAD</td>\n",
       "      <td>3</td>\n",
       "      <td>189</td>\n",
       "      <td>0</td>\n",
       "      <td>0</td>\n",
       "      <td>Benign</td>\n",
       "    </tr>\n",
       "    <tr>\n",
       "      <th>3</th>\n",
       "      <td>192.168.100.102</td>\n",
       "      <td>59701</td>\n",
       "      <td>192.168.100.111</td>\n",
       "      <td>22</td>\n",
       "      <td>tcp</td>\n",
       "      <td>NaN</td>\n",
       "      <td>0.000738</td>\n",
       "      <td>21.0</td>\n",
       "      <td>0.0</td>\n",
       "      <td>S0</td>\n",
       "      <td>0</td>\n",
       "      <td>SAD</td>\n",
       "      <td>3</td>\n",
       "      <td>189</td>\n",
       "      <td>0</td>\n",
       "      <td>0</td>\n",
       "      <td>Benign</td>\n",
       "    </tr>\n",
       "    <tr>\n",
       "      <th>4</th>\n",
       "      <td>192.168.100.111</td>\n",
       "      <td>36199</td>\n",
       "      <td>192.168.100.1</td>\n",
       "      <td>53</td>\n",
       "      <td>udp</td>\n",
       "      <td>dns</td>\n",
       "      <td>NaN</td>\n",
       "      <td>NaN</td>\n",
       "      <td>NaN</td>\n",
       "      <td>S0</td>\n",
       "      <td>0</td>\n",
       "      <td>D</td>\n",
       "      <td>1</td>\n",
       "      <td>58</td>\n",
       "      <td>0</td>\n",
       "      <td>0</td>\n",
       "      <td>Benign</td>\n",
       "    </tr>\n",
       "    <tr>\n",
       "      <th>...</th>\n",
       "      <td>...</td>\n",
       "      <td>...</td>\n",
       "      <td>...</td>\n",
       "      <td>...</td>\n",
       "      <td>...</td>\n",
       "      <td>...</td>\n",
       "      <td>...</td>\n",
       "      <td>...</td>\n",
       "      <td>...</td>\n",
       "      <td>...</td>\n",
       "      <td>...</td>\n",
       "      <td>...</td>\n",
       "      <td>...</td>\n",
       "      <td>...</td>\n",
       "      <td>...</td>\n",
       "      <td>...</td>\n",
       "      <td>...</td>\n",
       "    </tr>\n",
       "    <tr>\n",
       "      <th>1444701</th>\n",
       "      <td>192.168.2.5</td>\n",
       "      <td>41559</td>\n",
       "      <td>219.22.220.94</td>\n",
       "      <td>22</td>\n",
       "      <td>tcp</td>\n",
       "      <td>NaN</td>\n",
       "      <td>NaN</td>\n",
       "      <td>NaN</td>\n",
       "      <td>NaN</td>\n",
       "      <td>S0</td>\n",
       "      <td>0</td>\n",
       "      <td>S</td>\n",
       "      <td>1</td>\n",
       "      <td>60</td>\n",
       "      <td>0</td>\n",
       "      <td>0</td>\n",
       "      <td>Malicious</td>\n",
       "    </tr>\n",
       "    <tr>\n",
       "      <th>1444702</th>\n",
       "      <td>192.168.2.5</td>\n",
       "      <td>33619</td>\n",
       "      <td>219.150.110.230</td>\n",
       "      <td>22</td>\n",
       "      <td>tcp</td>\n",
       "      <td>NaN</td>\n",
       "      <td>2.999363</td>\n",
       "      <td>0.0</td>\n",
       "      <td>0.0</td>\n",
       "      <td>S0</td>\n",
       "      <td>0</td>\n",
       "      <td>S</td>\n",
       "      <td>3</td>\n",
       "      <td>180</td>\n",
       "      <td>0</td>\n",
       "      <td>0</td>\n",
       "      <td>Malicious</td>\n",
       "    </tr>\n",
       "    <tr>\n",
       "      <th>1444703</th>\n",
       "      <td>192.168.2.5</td>\n",
       "      <td>48481</td>\n",
       "      <td>219.34.35.98</td>\n",
       "      <td>22</td>\n",
       "      <td>tcp</td>\n",
       "      <td>NaN</td>\n",
       "      <td>NaN</td>\n",
       "      <td>NaN</td>\n",
       "      <td>NaN</td>\n",
       "      <td>S0</td>\n",
       "      <td>0</td>\n",
       "      <td>S</td>\n",
       "      <td>1</td>\n",
       "      <td>60</td>\n",
       "      <td>0</td>\n",
       "      <td>0</td>\n",
       "      <td>Malicious</td>\n",
       "    </tr>\n",
       "    <tr>\n",
       "      <th>1444704</th>\n",
       "      <td>192.168.2.5</td>\n",
       "      <td>54243</td>\n",
       "      <td>219.122.26.35</td>\n",
       "      <td>22</td>\n",
       "      <td>tcp</td>\n",
       "      <td>NaN</td>\n",
       "      <td>2.997674</td>\n",
       "      <td>0.0</td>\n",
       "      <td>0.0</td>\n",
       "      <td>S0</td>\n",
       "      <td>0</td>\n",
       "      <td>S</td>\n",
       "      <td>3</td>\n",
       "      <td>180</td>\n",
       "      <td>0</td>\n",
       "      <td>0</td>\n",
       "      <td>Malicious</td>\n",
       "    </tr>\n",
       "    <tr>\n",
       "      <th>1444705</th>\n",
       "      <td>192.168.2.5</td>\n",
       "      <td>35588</td>\n",
       "      <td>200.168.87.203</td>\n",
       "      <td>59353</td>\n",
       "      <td>tcp</td>\n",
       "      <td>NaN</td>\n",
       "      <td>2.999386</td>\n",
       "      <td>0.0</td>\n",
       "      <td>0.0</td>\n",
       "      <td>S0</td>\n",
       "      <td>0</td>\n",
       "      <td>S</td>\n",
       "      <td>3</td>\n",
       "      <td>180</td>\n",
       "      <td>0</td>\n",
       "      <td>0</td>\n",
       "      <td>Malicious</td>\n",
       "    </tr>\n",
       "  </tbody>\n",
       "</table>\n",
       "<p>1444706 rows × 17 columns</p>\n",
       "</div>"
      ],
      "text/plain": [
       "               id.orig_h  id.orig_p        id.resp_h  id.resp_p proto service  \\\n",
       "0        192.168.100.111      40008    46.28.110.244        123   udp     NaN   \n",
       "1        192.168.100.102      57849  192.168.100.111         22   tcp     NaN   \n",
       "2        192.168.100.102      59670  192.168.100.111         22   tcp     NaN   \n",
       "3        192.168.100.102      59701  192.168.100.111         22   tcp     NaN   \n",
       "4        192.168.100.111      36199    192.168.100.1         53   udp     dns   \n",
       "...                  ...        ...              ...        ...   ...     ...   \n",
       "1444701      192.168.2.5      41559    219.22.220.94         22   tcp     NaN   \n",
       "1444702      192.168.2.5      33619  219.150.110.230         22   tcp     NaN   \n",
       "1444703      192.168.2.5      48481     219.34.35.98         22   tcp     NaN   \n",
       "1444704      192.168.2.5      54243    219.122.26.35         22   tcp     NaN   \n",
       "1444705      192.168.2.5      35588   200.168.87.203      59353   tcp     NaN   \n",
       "\n",
       "           duration  orig_bytes  resp_bytes conn_state  missed_bytes history  \\\n",
       "0          0.004751        48.0        48.0         SF             0      Dd   \n",
       "1        108.421563      2376.0        96.0        OTH             0     DAd   \n",
       "2          0.001244        21.0         0.0         S0             0     SAD   \n",
       "3          0.000738        21.0         0.0         S0             0     SAD   \n",
       "4               NaN         NaN         NaN         S0             0       D   \n",
       "...             ...         ...         ...        ...           ...     ...   \n",
       "1444701         NaN         NaN         NaN         S0             0       S   \n",
       "1444702    2.999363         0.0         0.0         S0             0       S   \n",
       "1444703         NaN         NaN         NaN         S0             0       S   \n",
       "1444704    2.997674         0.0         0.0         S0             0       S   \n",
       "1444705    2.999386         0.0         0.0         S0             0       S   \n",
       "\n",
       "         orig_pkts  orig_ip_bytes  resp_pkts  resp_ip_bytes      label  \n",
       "0                1             76          1             76     Benign  \n",
       "1                5            332          2            200     Benign  \n",
       "2                3            189          0              0     Benign  \n",
       "3                3            189          0              0     Benign  \n",
       "4                1             58          0              0     Benign  \n",
       "...            ...            ...        ...            ...        ...  \n",
       "1444701          1             60          0              0  Malicious  \n",
       "1444702          3            180          0              0  Malicious  \n",
       "1444703          1             60          0              0  Malicious  \n",
       "1444704          3            180          0              0  Malicious  \n",
       "1444705          3            180          0              0  Malicious  \n",
       "\n",
       "[1444706 rows x 17 columns]"
      ]
     },
     "execution_count": 5,
     "metadata": {},
     "output_type": "execute_result"
    }
   ],
   "source": [
    "# Check dataset\n",
    "df"
   ]
  },
  {
   "cell_type": "code",
   "execution_count": 6,
   "id": "1e2e0a28-1466-4753-91bd-cf95a337a892",
   "metadata": {},
   "outputs": [
    {
     "name": "stdout",
     "output_type": "stream",
     "text": [
      "<class 'pandas.core.frame.DataFrame'>\n",
      "Index: 1444706 entries, 0 to 1444705\n",
      "Data columns (total 17 columns):\n",
      " #   Column         Non-Null Count    Dtype  \n",
      "---  ------         --------------    -----  \n",
      " 0   id.orig_h      1444706 non-null  object \n",
      " 1   id.orig_p      1444706 non-null  int64  \n",
      " 2   id.resp_h      1444706 non-null  object \n",
      " 3   id.resp_p      1444706 non-null  int64  \n",
      " 4   proto          1444706 non-null  object \n",
      " 5   service        10660 non-null    object \n",
      " 6   duration       544597 non-null   float64\n",
      " 7   orig_bytes     544597 non-null   float64\n",
      " 8   resp_bytes     544597 non-null   float64\n",
      " 9   conn_state     1444706 non-null  object \n",
      " 10  missed_bytes   1444706 non-null  int64  \n",
      " 11  history        1441055 non-null  object \n",
      " 12  orig_pkts      1444706 non-null  int64  \n",
      " 13  orig_ip_bytes  1444706 non-null  int64  \n",
      " 14  resp_pkts      1444706 non-null  int64  \n",
      " 15  resp_ip_bytes  1444706 non-null  int64  \n",
      " 16  label          1444706 non-null  object \n",
      "dtypes: float64(3), int64(7), object(7)\n",
      "memory usage: 198.4+ MB\n"
     ]
    }
   ],
   "source": [
    "# Check dataset summary\n",
    "df.info()"
   ]
  },
  {
   "cell_type": "code",
   "execution_count": 7,
   "id": "82ec6262-b9e2-48e5-bfed-cfb4f0cae2bf",
   "metadata": {},
   "outputs": [
    {
     "data": {
      "text/plain": [
       "0"
      ]
     },
     "execution_count": 7,
     "metadata": {},
     "output_type": "execute_result"
    }
   ],
   "source": [
    "# Check null values in the target attribute\n",
    "df[\"label\"].isna().sum()"
   ]
  },
  {
   "cell_type": "code",
   "execution_count": 8,
   "id": "60a0be89-99a0-4e92-a230-38f404031b7d",
   "metadata": {},
   "outputs": [
    {
     "data": {
      "text/plain": [
       "label\n",
       "Malicious    1246872\n",
       "Benign        197834\n",
       "Name: count, dtype: int64"
      ]
     },
     "execution_count": 8,
     "metadata": {},
     "output_type": "execute_result"
    }
   ],
   "source": [
    "# Check values distribution\n",
    "df[\"label\"].value_counts()"
   ]
  },
  {
   "cell_type": "code",
   "execution_count": 9,
   "id": "6a089a0d-07ba-4d45-b00a-534fa4913f6b",
   "metadata": {},
   "outputs": [
    {
     "data": {
      "text/plain": [
       "<Axes: xlabel='label', ylabel='count'>"
      ]
     },
     "execution_count": 9,
     "metadata": {},
     "output_type": "execute_result"
    },
    {
     "data": {
      "image/png": "[encoded data removed]",
      "text/plain": [
       "<Figure size 640x480 with 1 Axes>"
      ]
     },
     "metadata": {},
     "output_type": "display_data"
    }
   ],
   "source": [
    "# Plot target attribute on a count plot\n",
    "sns.countplot(data=df, x=\"label\")"
   ]
  },
  {
   "cell_type": "code",
   "execution_count": 10,
   "id": "2d298d8f-b28c-4820-93f1-cf9ba2632fca",
   "metadata": {},
   "outputs": [
    {
     "data": {
      "text/plain": [
       "{'Benign': 0, 'Malicious': 1}"
      ]
     },
     "execution_count": 10,
     "metadata": {},
     "output_type": "execute_result"
    }
   ],
   "source": [
    "# Initialize encoder with default parameters\n",
    "target_le = LabelEncoder()\n",
    "\n",
    "# Fit the encoder to the target attribute\n",
    "encoded_attribute = target_le.fit_transform(df[\"label\"])\n",
    "\n",
    "# Replace target attribute with encoded values\n",
    "df[\"label\"] = encoded_attribute\n",
    "\n",
    "# Check mapped labels\n",
    "dict(zip(target_le.classes_, target_le.transform(target_le.classes_)))"
   ]
  },
  {
   "cell_type": "code",
   "execution_count": 11,
   "id": "7349e690-f865-4092-858b-558674b919c8",
   "metadata": {},
   "outputs": [
    {
     "data": {
      "text/html": [
       "<div>\n",
       "<style scoped>\n",
       "    .dataframe tbody tr th:only-of-type {\n",
       "        vertical-align: middle;\n",
       "    }\n",
       "\n",
       "    .dataframe tbody tr th {\n",
       "        vertical-align: top;\n",
       "    }\n",
       "\n",
       "    .dataframe thead th {\n",
       "        text-align: right;\n",
       "    }\n",
       "</style>\n",
       "<table border=\"1\" class=\"dataframe\">\n",
       "  <thead>\n",
       "    <tr style=\"text-align: right;\">\n",
       "      <th></th>\n",
       "      <th>duration</th>\n",
       "      <th>orig_bytes</th>\n",
       "      <th>resp_bytes</th>\n",
       "      <th>missed_bytes</th>\n",
       "      <th>orig_pkts</th>\n",
       "      <th>orig_ip_bytes</th>\n",
       "      <th>resp_pkts</th>\n",
       "      <th>resp_ip_bytes</th>\n",
       "    </tr>\n",
       "  </thead>\n",
       "  <tbody>\n",
       "    <tr>\n",
       "      <th>count</th>\n",
       "      <td>544597.000000</td>\n",
       "      <td>5.445970e+05</td>\n",
       "      <td>5.445970e+05</td>\n",
       "      <td>1.444706e+06</td>\n",
       "      <td>1.444706e+06</td>\n",
       "      <td>1.444706e+06</td>\n",
       "      <td>1.444706e+06</td>\n",
       "      <td>1.444706e+06</td>\n",
       "    </tr>\n",
       "    <tr>\n",
       "      <th>mean</th>\n",
       "      <td>1.833372</td>\n",
       "      <td>7.230143e+03</td>\n",
       "      <td>5.656917e+01</td>\n",
       "      <td>2.109737e-01</td>\n",
       "      <td>1.780481e+02</td>\n",
       "      <td>7.745423e+03</td>\n",
       "      <td>1.269158e-01</td>\n",
       "      <td>3.006576e+01</td>\n",
       "    </tr>\n",
       "    <tr>\n",
       "      <th>std</th>\n",
       "      <td>139.545955</td>\n",
       "      <td>2.792870e+06</td>\n",
       "      <td>1.587521e+04</td>\n",
       "      <td>4.366926e+01</td>\n",
       "      <td>7.230341e+04</td>\n",
       "      <td>2.849377e+06</td>\n",
       "      <td>1.548112e+01</td>\n",
       "      <td>1.017120e+04</td>\n",
       "    </tr>\n",
       "    <tr>\n",
       "      <th>min</th>\n",
       "      <td>0.000001</td>\n",
       "      <td>0.000000e+00</td>\n",
       "      <td>0.000000e+00</td>\n",
       "      <td>0.000000e+00</td>\n",
       "      <td>0.000000e+00</td>\n",
       "      <td>0.000000e+00</td>\n",
       "      <td>0.000000e+00</td>\n",
       "      <td>0.000000e+00</td>\n",
       "    </tr>\n",
       "    <tr>\n",
       "      <th>25%</th>\n",
       "      <td>0.000002</td>\n",
       "      <td>0.000000e+00</td>\n",
       "      <td>0.000000e+00</td>\n",
       "      <td>0.000000e+00</td>\n",
       "      <td>1.000000e+00</td>\n",
       "      <td>4.000000e+01</td>\n",
       "      <td>0.000000e+00</td>\n",
       "      <td>0.000000e+00</td>\n",
       "    </tr>\n",
       "    <tr>\n",
       "      <th>50%</th>\n",
       "      <td>0.000006</td>\n",
       "      <td>0.000000e+00</td>\n",
       "      <td>0.000000e+00</td>\n",
       "      <td>0.000000e+00</td>\n",
       "      <td>1.000000e+00</td>\n",
       "      <td>4.000000e+01</td>\n",
       "      <td>0.000000e+00</td>\n",
       "      <td>0.000000e+00</td>\n",
       "    </tr>\n",
       "    <tr>\n",
       "      <th>75%</th>\n",
       "      <td>2.998537</td>\n",
       "      <td>0.000000e+00</td>\n",
       "      <td>0.000000e+00</td>\n",
       "      <td>0.000000e+00</td>\n",
       "      <td>2.000000e+00</td>\n",
       "      <td>8.000000e+01</td>\n",
       "      <td>0.000000e+00</td>\n",
       "      <td>0.000000e+00</td>\n",
       "    </tr>\n",
       "    <tr>\n",
       "      <th>max</th>\n",
       "      <td>48976.819063</td>\n",
       "      <td>1.744830e+09</td>\n",
       "      <td>1.166102e+07</td>\n",
       "      <td>2.027200e+04</td>\n",
       "      <td>6.602735e+07</td>\n",
       "      <td>1.914793e+09</td>\n",
       "      <td>9.307000e+03</td>\n",
       "      <td>1.207699e+07</td>\n",
       "    </tr>\n",
       "  </tbody>\n",
       "</table>\n",
       "</div>"
      ],
      "text/plain": [
       "            duration    orig_bytes    resp_bytes  missed_bytes     orig_pkts  \\\n",
       "count  544597.000000  5.445970e+05  5.445970e+05  1.444706e+06  1.444706e+06   \n",
       "mean        1.833372  7.230143e+03  5.656917e+01  2.109737e-01  1.780481e+02   \n",
       "std       139.545955  2.792870e+06  1.587521e+04  4.366926e+01  7.230341e+04   \n",
       "min         0.000001  0.000000e+00  0.000000e+00  0.000000e+00  0.000000e+00   \n",
       "25%         0.000002  0.000000e+00  0.000000e+00  0.000000e+00  1.000000e+00   \n",
       "50%         0.000006  0.000000e+00  0.000000e+00  0.000000e+00  1.000000e+00   \n",
       "75%         2.998537  0.000000e+00  0.000000e+00  0.000000e+00  2.000000e+00   \n",
       "max     48976.819063  1.744830e+09  1.166102e+07  2.027200e+04  6.602735e+07   \n",
       "\n",
       "       orig_ip_bytes     resp_pkts  resp_ip_bytes  \n",
       "count   1.444706e+06  1.444706e+06   1.444706e+06  \n",
       "mean    7.745423e+03  1.269158e-01   3.006576e+01  \n",
       "std     2.849377e+06  1.548112e+01   1.017120e+04  \n",
       "min     0.000000e+00  0.000000e+00   0.000000e+00  \n",
       "25%     4.000000e+01  0.000000e+00   0.000000e+00  \n",
       "50%     4.000000e+01  0.000000e+00   0.000000e+00  \n",
       "75%     8.000000e+01  0.000000e+00   0.000000e+00  \n",
       "max     1.914793e+09  9.307000e+03   1.207699e+07  "
      ]
     },
     "execution_count": 11,
     "metadata": {},
     "output_type": "execute_result"
    }
   ],
   "source": [
    "# Use describe() method to obtain general statistics about the numerical features\n",
    "numerical_features = [\"duration\", \"orig_bytes\",\t\"resp_bytes\", \"missed_bytes\", \"orig_pkts\",\t\"orig_ip_bytes\", \"resp_pkts\", \"resp_ip_bytes\"]\n",
    "df[numerical_features].describe()"
   ]
  },
  {
   "cell_type": "code",
   "execution_count": 12,
   "id": "d93911e2-769a-4fe9-baa4-df796555b7e9",
   "metadata": {},
   "outputs": [
    {
     "data": {
      "text/plain": [
       "<Axes: ylabel='duration'>"
      ]
     },
     "execution_count": 12,
     "metadata": {},
     "output_type": "execute_result"
    },
    {
     "data": {
      "image/png": "[encoded data removed]",
      "text/plain": [
       "<Figure size 640x480 with 1 Axes>"
      ]
     },
     "metadata": {},
     "output_type": "display_data"
    }
   ],
   "source": [
    "# Plot \"duration\" feature on a boxplot\n",
    "sns.boxplot(data=df, y=\"duration\")"
   ]
  },
  {
   "cell_type": "code",
   "execution_count": 13,
   "id": "58a0b317-46d8-4f1f-b187-5a3a4129bca2",
   "metadata": {},
   "outputs": [
    {
     "name": "stdout",
     "output_type": "stream",
     "text": [
      "(min,max) bounds for \"duration\": (-4.497800499999999,7.4963394999999995)\n"
     ]
    }
   ],
   "source": [
    "# Replace outliers using IQR (Inter-quartile Range)\n",
    "outliers_columns = ['duration']\n",
    "for col_name in outliers_columns:\n",
    "    # Calculate first and third quartiles\n",
    "    q1, q3 = np.nanpercentile(df[col_name],[25,75])\n",
    "    \n",
    "    # Calculate the inter-quartile range\n",
    "    intr_qr = q3-q1\n",
    "\n",
    "    # Calculate lower and higher bounds\n",
    "    iqr_min_val = q1-(1.5*intr_qr)\n",
    "    iqr_max_val = q3+(1.5*intr_qr)\n",
    "    print(f\"(min,max) bounds for \\\"{col_name}\\\": ({iqr_min_val},{iqr_max_val})\")\n",
    "    \n",
    "    # Replace values that are less than min or larger then max with np.nan\n",
    "    df.loc[df[col_name] < iqr_min_val, col_name] = np.nan\n",
    "    df.loc[df[col_name] > iqr_max_val, col_name] = np.nan"
   ]
  },
  {
   "cell_type": "code",
   "execution_count": 14,
   "id": "7b779fe8-e68e-49df-b2ed-639d07aefe20",
   "metadata": {},
   "outputs": [
    {
     "data": {
      "text/plain": [
       "count    542298.000000\n",
       "mean          1.016810\n",
       "std           1.464098\n",
       "min           0.000001\n",
       "25%           0.000002\n",
       "50%           0.000006\n",
       "75%           2.998364\n",
       "max           7.496058\n",
       "Name: duration, dtype: float64"
      ]
     },
     "execution_count": 14,
     "metadata": {},
     "output_type": "execute_result"
    }
   ],
   "source": [
    "# Reevaluate the new distribution of values\n",
    "df[\"duration\"].describe()"
   ]
  },
  {
   "cell_type": "code",
   "execution_count": 15,
   "id": "651f7017-51e5-47c1-851e-86c2c130aa24",
   "metadata": {},
   "outputs": [],
   "source": [
    "# A method to encode an ip address using the IPv4/IPv6 manipulation library\n",
    "def encode_ipv4(ip):\n",
    "    return int(ipaddress.IPv4Address(ip))"
   ]
  },
  {
   "cell_type": "code",
   "execution_count": 16,
   "id": "7d1010cd-3367-470b-b0a8-153e063b8f13",
   "metadata": {},
   "outputs": [],
   "source": [
    "# Encode ip features into numerical values\n",
    "df[\"id.orig_h\"] = df[\"id.orig_h\"].apply(encode_ipv4)\n",
    "df[\"id.resp_h\"] = df[\"id.resp_h\"].apply(encode_ipv4)"
   ]
  },
  {
   "cell_type": "code",
   "execution_count": 17,
   "id": "d725eac6-6450-442a-abd7-bfc7917fb5d8",
   "metadata": {},
   "outputs": [
    {
     "name": "stdout",
     "output_type": "stream",
     "text": [
      "IP col (id.orig_h) values: [3232261231 3232261222 3211263738 ... 3525458814 3723033929 3682566858]\n",
      "IP col (id.resp_h) values: [ 773615348 3232261231 3232261121 ... 3674887997 3684069094 3682212387]\n"
     ]
    }
   ],
   "source": [
    "# Check encoded ip addresses\n",
    "ip_columns = [\"id.orig_h\",\"id.resp_h\"]\n",
    "for c in ip_columns:\n",
    "    print(f\"IP col ({c}) values: {df[c].unique()}\")"
   ]
  },
  {
   "cell_type": "code",
   "execution_count": 18,
   "id": "bbd1dd36-a479-4e81-914f-b849996ab836",
   "metadata": {},
   "outputs": [
    {
     "data": {
      "text/plain": [
       "service          1434046\n",
       "duration          902408\n",
       "resp_bytes        900109\n",
       "orig_bytes        900109\n",
       "history             3651\n",
       "missed_bytes           0\n",
       "resp_ip_bytes          0\n",
       "resp_pkts              0\n",
       "orig_ip_bytes          0\n",
       "orig_pkts              0\n",
       "id.orig_h              0\n",
       "conn_state             0\n",
       "id.orig_p              0\n",
       "proto                  0\n",
       "id.resp_p              0\n",
       "id.resp_h              0\n",
       "label                  0\n",
       "dtype: int64"
      ]
     },
     "execution_count": 18,
     "metadata": {},
     "output_type": "execute_result"
    }
   ],
   "source": [
    "# Check the number of null values in each column\n",
    "df.isnull().sum().sort_values(ascending=False)"
   ]
  },
  {
   "cell_type": "code",
   "execution_count": 19,
   "id": "9652b85e-484a-4aa2-8ab1-2c9032f20579",
   "metadata": {},
   "outputs": [
    {
     "data": {
      "text/plain": [
       "<Axes: >"
      ]
     },
     "execution_count": 19,
     "metadata": {},
     "output_type": "execute_result"
    },
    {
     "data": {
      "image/png": "[encoded data removed]",
      "text/plain": [
       "<Figure size 640x480 with 1 Axes>"
      ]
     },
     "metadata": {},
     "output_type": "display_data"
    }
   ],
   "source": [
    "# Check null values using heatmap\n",
    "sns.heatmap(data=df.isnull(), yticklabels=False, cbar=False, cmap=\"viridis\")"
   ]
  },
  {
   "cell_type": "code",
   "execution_count": 20,
   "id": "7aaf5ba3-630d-4f84-804f-8f52be0b7716",
   "metadata": {},
   "outputs": [
    {
     "data": {
      "text/plain": [
       "<Axes: xlabel='label', ylabel='count'>"
      ]
     },
     "execution_count": 20,
     "metadata": {},
     "output_type": "execute_result"
    },
    {
     "data": {
      "image/png": "[encoded data removed]",
      "text/plain": [
       "<Figure size 640x480 with 1 Axes>"
      ]
     },
     "metadata": {},
     "output_type": "display_data"
    }
   ],
   "source": [
    "# Check the relationship between the \"service\" and the target attribute\n",
    "sns.countplot(data=df, x=\"label\", hue=\"service\")"
   ]
  },
  {
   "cell_type": "code",
   "execution_count": 21,
   "id": "ad905c2c-58de-44e4-9155-662557455077",
   "metadata": {},
   "outputs": [
    {
     "name": "stdout",
     "output_type": "stream",
     "text": [
      "Prediction accuracy for 'service' is: 0.9967166979362101\n",
      "Classification report:\n",
      "              precision    recall  f1-score   support\n",
      "\n",
      "        dhcp       1.00      1.00      1.00         2\n",
      "         dns       1.00      1.00      1.00       929\n",
      "        http       0.99      0.97      0.98       105\n",
      "         irc       0.99      1.00      1.00       313\n",
      "         ssh       1.00      1.00      1.00       781\n",
      "         ssl       0.00      0.00      0.00         2\n",
      "\n",
      "    accuracy                           1.00      2132\n",
      "   macro avg       0.83      0.83      0.83      2132\n",
      "weighted avg       1.00      1.00      1.00      2132\n",
      "\n"
     ]
    }
   ],
   "source": [
    "# Select specific columns to be used for the classification, here we initially select the numerical attributes with no missing values.\n",
    "srv_training_columns = [\"id.orig_h\",\"id.orig_p\",\"id.resp_h\",\"id.resp_p\",\"missed_bytes\",\"orig_pkts\",\"orig_ip_bytes\",\"resp_pkts\",\"resp_ip_bytes\"] \n",
    "\n",
    "# Split the rows into two datasets containing rows with/without \"service\"\n",
    "data_df_with_service = df[df[\"service\"].notna()]\n",
    "data_df_no_service = df[df[\"service\"].isna()]\n",
    "\n",
    "# Split the service dataset into dependent and independent features\n",
    "srv_X = data_df_with_service[srv_training_columns]\n",
    "srv_y = data_df_with_service[\"service\"].values\n",
    "\n",
    "# Split into train/test subsets\n",
    "srv_X_train, srv_X_test, srv_y_train, srv_y_test = train_test_split(srv_X, srv_y, test_size=0.2, random_state=0)\n",
    "\n",
    "# Create KNN estimator and fit it\n",
    "srv_knn = KNeighborsClassifier(n_neighbors=3)\n",
    "srv_knn.fit(srv_X_train, srv_y_train)\n",
    "\n",
    "# Predict missing values\n",
    "srv_y_pred = srv_knn.predict(srv_X_test)\n",
    "\n",
    "# Check predictions accuracy\n",
    "srv_accuracy_test = accuracy_score(srv_y_test, srv_y_pred)\n",
    "print(f\"Prediction accuracy for 'service' is: {srv_accuracy_test}\")\n",
    "print(\"Classification report:\")\n",
    "print(classification_report(srv_y_test, srv_y_pred))"
   ]
  },
  {
   "cell_type": "code",
   "execution_count": 22,
   "id": "07bcd35e-59dc-4852-a20a-c74432d876ce",
   "metadata": {},
   "outputs": [],
   "source": [
    "# Predict \"service\" for missing values\n",
    "srv_predictions = srv_knn.predict(data_df_no_service[srv_training_columns])\n",
    "\n",
    "# Update the original data set with predicted \"service\" values\n",
    "df.loc[df[\"service\"].isna(), \"service\"] = srv_predictions"
   ]
  },
  {
   "cell_type": "code",
   "execution_count": null,
   "id": "caaa7846-500e-4f6e-99bf-8a750afe9f99",
   "metadata": {},
   "outputs": [],
   "source": [
    "# To preserve hidden correlations with other features in the dataset, we will use a KNN imputer to estimate the missing values based on relationships with other numerical features.\n",
    "numerical_features = df.drop(\"label\", axis=1).select_dtypes(include=\"number\").columns\n",
    "knn_imputer = KNNImputer()\n",
    "data_df_after_imputing = knn_imputer.fit_transform(df[numerical_features])"
   ]
  },
  {
   "cell_type": "code",
   "execution_count": null,
   "id": "21710c10-909b-4a79-8df0-f27ae36bf514",
   "metadata": {},
   "outputs": [],
   "source": [
    "# Update original data set to fill missing values with imputed ones\n",
    "df[numerical_features] = data_df_after_imputing"
   ]
  },
  {
   "cell_type": "code",
   "execution_count": null,
   "id": "74b76636-d618-418c-8953-9fcf0532f8fe",
   "metadata": {},
   "outputs": [],
   "source": [
    "# Confirm all missing values were successfully imputed\n",
    "df.isnull().sum().sort_values(ascending=False)"
   ]
  },
  {
   "cell_type": "code",
   "execution_count": null,
   "id": "9e53de7d-a750-4194-89d6-78df4aa089af",
   "metadata": {},
   "outputs": [],
   "source": [
    "# Check statistics for numerical features\n",
    "numerical_features = [\"id.orig_h\", \"id.orig_p\", \"id.resp_h\", \"id.resp_p\", \"duration\", \"orig_bytes\", \"resp_bytes\", \"missed_bytes\", \"orig_pkts\", \"orig_ip_bytes\",\t\"resp_pkts\", \"resp_ip_bytes\"]\n",
    "df[numerical_features].describe()"
   ]
  },
  {
   "cell_type": "code",
   "execution_count": null,
   "id": "392c76f4-b27a-44b5-8493-cdfe43f4a63f",
   "metadata": {},
   "outputs": [],
   "source": [
    "# Initialize and apply MinMaxScaler scaler\n",
    "min_max_scaler = MinMaxScaler()\n",
    "df[numerical_features] = min_max_scaler.fit_transform(df[numerical_features])"
   ]
  },
  {
   "cell_type": "code",
   "execution_count": null,
   "id": "1fae7730-00f7-4c5b-b813-37b599efc613",
   "metadata": {},
   "outputs": [],
   "source": [
    "# Check statistics for scaled features\n",
    "df[numerical_features].describe()"
   ]
  },
  {
   "cell_type": "code",
   "execution_count": null,
   "id": "2a0fe189-1fac-43bd-bc7c-986b117f4779",
   "metadata": {},
   "outputs": [],
   "source": [
    "# Look for categorical features in the dataset\n",
    "df.info()"
   ]
  },
  {
   "cell_type": "code",
   "execution_count": null,
   "id": "2fef9689-c494-4f42-9b53-2eff6c6af349",
   "metadata": {},
   "outputs": [],
   "source": [
    "# Check the number of unique values in each feature\n",
    "categorical_features = [\"proto\",\"service\",\"conn_state\",\"history\"]\n",
    "for c in categorical_features:\n",
    "    print(f\"Column ({c}) has ({df[c].nunique()}) distinct values.\")"
   ]
  },
  {
   "cell_type": "code",
   "execution_count": null,
   "id": "3a7e9d42-c9b7-470e-9456-07f097a21afb",
   "metadata": {},
   "outputs": [],
   "source": [
    "# Check values of \"history\" because it has too many unique values.\n",
    "history_val_counts = df[\"history\"].value_counts()\n",
    "history_val_counts"
   ]
  },
  {
   "cell_type": "code",
   "execution_count": null,
   "id": "7f43ac08-3393-41e2-84be-2b3b7cf617d3",
   "metadata": {},
   "outputs": [],
   "source": [
    "# Map values to their frequencies\n",
    "history_freq_map = df[\"history\"].map(history_val_counts)\n",
    "\n",
    "# Replace low frequent values in \"history\" with \"Other\" using the corresponding frequency map\n",
    "df[\"history\"] = df[\"history\"].mask(history_freq_map < 10, \"Other\")\n",
    "\n",
    "# Check \"history\" values after mapping\n",
    "df[\"history\"].value_counts()"
   ]
  },
  {
   "cell_type": "code",
   "execution_count": null,
   "id": "35893f1b-8400-4b99-abea-0567520324f7",
   "metadata": {},
   "outputs": [],
   "source": [
    "# Initialize the encoder with its default parameters\n",
    "ohe = OneHotEncoder()\n",
    "\n",
    "# Fit the encoder to categorical features in the dataset\n",
    "encoded_features = ohe.fit_transform(df[categorical_features])\n",
    "\n",
    "# Create a dataframe of encoded features\n",
    "encoded_features_df = pd.DataFrame(encoded_features.toarray(), columns=ohe.get_feature_names_out())\n",
    "\n",
    "# Check the results of encoding\n",
    "encoded_features_df"
   ]
  },
  {
   "cell_type": "code",
   "execution_count": null,
   "id": "974d9ad0-4e7a-417c-9738-9377223859e3",
   "metadata": {},
   "outputs": [],
   "source": [
    "# Merge encoded features with the dataset and drop original columns\n",
    "df = pd.concat([df, encoded_features_df], axis=1).drop(categorical_features, axis=1)"
   ]
  },
  {
   "cell_type": "code",
   "execution_count": null,
   "id": "6f18de34-581f-4138-a977-de2b5c8e8d72",
   "metadata": {},
   "outputs": [],
   "source": [
    "# Check the final version of the dataset\n",
    "df"
   ]
  },
  {
   "cell_type": "code",
   "execution_count": null,
   "id": "dac74e22-9184-4ccd-acb1-26a92ee948fc",
   "metadata": {},
   "outputs": [],
   "source": [
    "# Check not null values and attribute types\n",
    "df.info()"
   ]
  },
  {
   "cell_type": "code",
   "execution_count": null,
   "id": "04e96506-4ae1-43dd-8252-362fbe99debb",
   "metadata": {},
   "outputs": [],
   "source": [
    "# Save a new csv file (updated/changed column names)\n",
    "df.to_csv('../data/processed/iot23_combined_processed.csv')"
   ]
  }
 ],
 "metadata": {
  "kernelspec": {
   "display_name": "Python 3 (ipykernel)",
   "language": "python",
   "name": "python3"
  },
  "language_info": {
   "codemirror_mode": {
    "name": "ipython",
    "version": 3
   },
   "file_extension": ".py",
   "mimetype": "text/x-python",
   "name": "python",
   "nbconvert_exporter": "python",
   "pygments_lexer": "ipython3",
   "version": "3.10.12"
  }
 },
 "nbformat": 4,
 "nbformat_minor": 5
}
