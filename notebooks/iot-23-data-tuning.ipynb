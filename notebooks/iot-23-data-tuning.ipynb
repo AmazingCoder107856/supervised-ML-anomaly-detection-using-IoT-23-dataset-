{
 "cells": [
  {
   "cell_type": "markdown",
   "id": "2da21591-6c8e-486f-ad05-5fb4b1d1f028",
   "metadata": {},
   "source": [
    "# Supervised ML for anomaly detection in IOT to enahnce network security\n",
    "## Part 4 - DATA TUNING"
   ]
  },
  {
   "cell_type": "markdown",
   "id": "6226d3dc-dc98-4252-b452-51d2642c630a",
   "metadata": {},
   "source": [
    "The IoT-23 dataset is a collection of network traffic from Internet of Things (IoT) devices. It includes 20 malware captures executed in IoT devices, and 3 hotspot captures for benign IoT devices traffic12. The 3 hotspot captures are not being included in the data cleaning because this feature was not considered relevant for the specific analysis being performed.\n",
    "\n",
    "In this notebook, we load the raw dataset file and implement initial cleaning to prepare it for the next processing phase.\n",
    "\n",
    "> **INPUT:** downloaded the raw dataset file from its original source. <br>\n",
    "> **OUTPUT:** a cleaned version of the dataset stored to an intermediate csv file."
   ]
  },
  {
   "cell_type": "markdown",
   "id": "ee918b10-7a8c-46bd-be14-302474f7b611",
   "metadata": {},
   "source": [
    "***"
   ]
  },
  {
   "cell_type": "code",
   "execution_count": null,
   "id": "2d0d644b-ec0d-4566-86fd-eb22c1e8b475",
   "metadata": {},
   "outputs": [],
   "source": [
    "# Import necessary libraries and modules\n",
    "import pandas as pd\n",
    "from sklearn.model_selection import StratifiedKFold, GridSearchCV\n",
    "from sklearn.svm import SVC"
   ]
  },
  {
   "cell_type": "code",
   "execution_count": null,
   "id": "67eca1c8-a47e-48af-9a5d-ebcedd3c4551",
   "metadata": {},
   "outputs": [],
   "source": [
    "# Read the dataset\n",
    "data_df = pd.read_csv('../data/processed/iot23_combined_processed.csv', index_col=0)"
   ]
  },
  {
   "cell_type": "code",
   "execution_count": null,
   "id": "c195875b-717b-4786-a618-faea566adf5c",
   "metadata": {},
   "outputs": [],
   "source": [
    "# Split data into independent and dependent variables\n",
    "data_X = data_df.drop(\"label\", axis=1)\n",
    "data_y = data_df[\"label\"]"
   ]
  },
  {
   "cell_type": "code",
   "execution_count": null,
   "id": "38d4a569-b382-4a72-8deb-7e766d589012",
   "metadata": {},
   "outputs": [],
   "source": [
    "# Initialize the model\n",
    "model=SVC()\n",
    "\n",
    "# Set hyperparameters\n",
    "parameters={\n",
    "    'C':[0.1, 1, 10, 100, 1000],\n",
    "    'gamma':[1, 0.1, 0.01, 0.001, 0.0001],\n",
    "}\n",
    "\n",
    "# Initialize cross validation method\n",
    "cross_validation_folds = StratifiedKFold(n_splits=5, shuffle=True, random_state=0)\n",
    "\n",
    "# Initialize tuning process\n",
    "grid = GridSearchCV(\n",
    "    estimator=model, \n",
    "    param_grid=parameters, \n",
    "    scoring=['f1','precision','recall'],\n",
    "    cv=cross_validation_folds,\n",
    "    verbose=100,\n",
    "    refit=\"precision\")\n",
    "\n",
    "# Train the model\n",
    "grid.fit(data_X, data_y)\n",
    "\n",
    "# Store performance metrics\n",
    "results = pd.DataFrame(index=[\"SVC Base\", \"SVC Tuned\"], columns=[\"Recall\", \"Precision\", \"F1\"])\n",
    "results.iloc[0] = [0.999906, 0.995403, 0.997649] # Results obtained from previous phase\n",
    "results.iloc[1] = [grid.cv_results_['mean_test_recall'][grid.best_index_], grid.cv_results_['mean_test_precision'][grid.best_index_], grid.cv_results_['mean_test_f1'][grid.best_index_]]\n",
    "print (\"Best Parameters: {}\".format(grid.best_params_))"
   ]
  },
  {
   "cell_type": "code",
   "execution_count": null,
   "id": "75d19653-55f6-4d23-aeab-ae388b1edfc9",
   "metadata": {},
   "outputs": [],
   "source": [
    "# Check and compare results\n",
    "results"
   ]
  }
 ],
 "metadata": {
  "kernelspec": {
   "display_name": "Python 3 (ipykernel)",
   "language": "python",
   "name": "python3"
  },
  "language_info": {
   "codemirror_mode": {
    "name": "ipython",
    "version": 3
   },
   "file_extension": ".py",
   "mimetype": "text/x-python",
   "name": "python",
   "nbconvert_exporter": "python",
   "pygments_lexer": "ipython3",
   "version": "3.10.12"
  }
 },
 "nbformat": 4,
 "nbformat_minor": 5
}
