{
 "cells": [
  {
   "cell_type": "markdown",
   "id": "bf9038c0-fd08-4598-ad76-83a2749c09d1",
   "metadata": {},
   "source": [
    "# Supervised ML for anomaly detection in IOT to enahnce network security\n",
    "## Part 2 - DATA PROCESSING"
   ]
  },
  {
   "cell_type": "markdown",
   "id": "04a90337-dad1-4aad-a302-6c7dc60ea481",
   "metadata": {},
   "source": [
    "The IoT-23 dataset is a collection of network traffic from Internet of Things (IoT) devices. It includes 20 malware captures executed in IoT devices, and 3 hotspot captures for benign IoT devices traffic12. The 3 hotspot captures are not being included in the data cleaning because this feature was not considered relevant for the specific analysis being performed.\n",
    "\n",
    "In this notebook, we load the cleaned dataset file and process it into an acceptable format to ML algorithms.\n",
    "\n",
    "> **INPUT:** the cleaned dataset csv file as resulted from the previous cleaning phase.<br>\n",
    "> **OUTPUT:** a processed (final version) of the dataset as a csv file.  "
   ]
  },
  {
   "cell_type": "markdown",
   "id": "6364160c-cf5d-4e97-b2e4-f05b28902941",
   "metadata": {},
   "source": [
    "***"
   ]
  },
  {
   "cell_type": "markdown",
   "id": "a3589d47-2287-4e7e-8c16-dc3e862162f8",
   "metadata": {},
   "source": [
    "### 1. INITIALIZATION"
   ]
  },
  {
   "cell_type": "code",
   "execution_count": 1,
   "id": "56d1e542-6fa6-4406-87d7-39c1296cf3d3",
   "metadata": {},
   "outputs": [],
   "source": [
    "# Import necessary libraries and modules\n",
    "import pandas as pd\n",
    "import numpy as np\n",
    "import seaborn as sns\n",
    "import ipaddress\n",
    "from sklearn.model_selection import train_test_split\n",
    "from sklearn.neighbors import KNeighborsClassifier\n",
    "from sklearn.metrics import accuracy_score, classification_report\n",
    "from sklearn.impute import KNNImputer\n",
    "from sklearn.preprocessing import LabelEncoder, OneHotEncoder\n",
    "from sklearn.preprocessing import MinMaxScaler\n",
    "import matplotlib.pyplot as plt\n",
    "import networkx as nx"
   ]
  },
  {
   "cell_type": "code",
   "execution_count": 2,
   "id": "c765d40d-c6a8-462d-b8c0-4b2dc69766af",
   "metadata": {},
   "outputs": [],
   "source": [
    "# Set display options\n",
    "pd.set_option('display.max_columns', None)"
   ]
  },
  {
   "cell_type": "markdown",
   "id": "1a2a3c6b-0238-421f-939e-6c930c8f2766",
   "metadata": {},
   "source": [
    "### 2. LOADING CLEANED DATASET"
   ]
  },
  {
   "cell_type": "code",
   "execution_count": 3,
   "id": "04320d1a-1394-4e61-9799-08ae771e0988",
   "metadata": {},
   "outputs": [],
   "source": [
    "# Read csv\n",
    "df = pd.read_csv('../CSV-data/interim/iot23_combined.csv', index_col=0, low_memory=False)"
   ]
  },
  {
   "cell_type": "code",
   "execution_count": 4,
   "id": "d28b3cb8-eb97-448e-9e35-bc123d12001e",
   "metadata": {},
   "outputs": [
    {
     "data": {
      "text/plain": [
       "(1444706, 18)"
      ]
     },
     "execution_count": 4,
     "metadata": {},
     "output_type": "execute_result"
    }
   ],
   "source": [
    "# Check dataset shape\n",
    "df.shape"
   ]
  },
  {
   "cell_type": "code",
   "execution_count": 5,
   "id": "b980d671-ad61-4910-8e2d-661991bba874",
   "metadata": {},
   "outputs": [
    {
     "data": {
      "text/html": [
       "<div>\n",
       "<style scoped>\n",
       "    .dataframe tbody tr th:only-of-type {\n",
       "        vertical-align: middle;\n",
       "    }\n",
       "\n",
       "    .dataframe tbody tr th {\n",
       "        vertical-align: top;\n",
       "    }\n",
       "\n",
       "    .dataframe thead th {\n",
       "        text-align: right;\n",
       "    }\n",
       "</style>\n",
       "<table border=\"1\" class=\"dataframe\">\n",
       "  <thead>\n",
       "    <tr style=\"text-align: right;\">\n",
       "      <th></th>\n",
       "      <th>id.orig_h</th>\n",
       "      <th>id.orig_p</th>\n",
       "      <th>id.resp_h</th>\n",
       "      <th>id.resp_p</th>\n",
       "      <th>proto</th>\n",
       "      <th>service</th>\n",
       "      <th>duration</th>\n",
       "      <th>orig_bytes</th>\n",
       "      <th>resp_bytes</th>\n",
       "      <th>conn_state</th>\n",
       "      <th>missed_bytes</th>\n",
       "      <th>history</th>\n",
       "      <th>orig_pkts</th>\n",
       "      <th>orig_ip_bytes</th>\n",
       "      <th>resp_pkts</th>\n",
       "      <th>resp_ip_bytes</th>\n",
       "      <th>label</th>\n",
       "      <th>detailed_label</th>\n",
       "    </tr>\n",
       "  </thead>\n",
       "  <tbody>\n",
       "    <tr>\n",
       "      <th>0</th>\n",
       "      <td>192.168.100.111</td>\n",
       "      <td>40008</td>\n",
       "      <td>46.28.110.244</td>\n",
       "      <td>123</td>\n",
       "      <td>udp</td>\n",
       "      <td>NaN</td>\n",
       "      <td>0.004751</td>\n",
       "      <td>48.0</td>\n",
       "      <td>48.0</td>\n",
       "      <td>SF</td>\n",
       "      <td>0</td>\n",
       "      <td>Dd</td>\n",
       "      <td>1</td>\n",
       "      <td>76</td>\n",
       "      <td>1</td>\n",
       "      <td>76</td>\n",
       "      <td>Benign</td>\n",
       "      <td>Benign</td>\n",
       "    </tr>\n",
       "    <tr>\n",
       "      <th>1</th>\n",
       "      <td>192.168.100.102</td>\n",
       "      <td>57849</td>\n",
       "      <td>192.168.100.111</td>\n",
       "      <td>22</td>\n",
       "      <td>tcp</td>\n",
       "      <td>NaN</td>\n",
       "      <td>108.421563</td>\n",
       "      <td>2376.0</td>\n",
       "      <td>96.0</td>\n",
       "      <td>OTH</td>\n",
       "      <td>0</td>\n",
       "      <td>DAd</td>\n",
       "      <td>5</td>\n",
       "      <td>332</td>\n",
       "      <td>2</td>\n",
       "      <td>200</td>\n",
       "      <td>Benign</td>\n",
       "      <td>Benign</td>\n",
       "    </tr>\n",
       "    <tr>\n",
       "      <th>2</th>\n",
       "      <td>192.168.100.102</td>\n",
       "      <td>59670</td>\n",
       "      <td>192.168.100.111</td>\n",
       "      <td>22</td>\n",
       "      <td>tcp</td>\n",
       "      <td>NaN</td>\n",
       "      <td>0.001244</td>\n",
       "      <td>21.0</td>\n",
       "      <td>0.0</td>\n",
       "      <td>S0</td>\n",
       "      <td>0</td>\n",
       "      <td>SAD</td>\n",
       "      <td>3</td>\n",
       "      <td>189</td>\n",
       "      <td>0</td>\n",
       "      <td>0</td>\n",
       "      <td>Benign</td>\n",
       "      <td>Benign</td>\n",
       "    </tr>\n",
       "    <tr>\n",
       "      <th>3</th>\n",
       "      <td>192.168.100.102</td>\n",
       "      <td>59701</td>\n",
       "      <td>192.168.100.111</td>\n",
       "      <td>22</td>\n",
       "      <td>tcp</td>\n",
       "      <td>NaN</td>\n",
       "      <td>0.000738</td>\n",
       "      <td>21.0</td>\n",
       "      <td>0.0</td>\n",
       "      <td>S0</td>\n",
       "      <td>0</td>\n",
       "      <td>SAD</td>\n",
       "      <td>3</td>\n",
       "      <td>189</td>\n",
       "      <td>0</td>\n",
       "      <td>0</td>\n",
       "      <td>Benign</td>\n",
       "      <td>Benign</td>\n",
       "    </tr>\n",
       "    <tr>\n",
       "      <th>4</th>\n",
       "      <td>192.168.100.111</td>\n",
       "      <td>36199</td>\n",
       "      <td>192.168.100.1</td>\n",
       "      <td>53</td>\n",
       "      <td>udp</td>\n",
       "      <td>dns</td>\n",
       "      <td>NaN</td>\n",
       "      <td>NaN</td>\n",
       "      <td>NaN</td>\n",
       "      <td>S0</td>\n",
       "      <td>0</td>\n",
       "      <td>D</td>\n",
       "      <td>1</td>\n",
       "      <td>58</td>\n",
       "      <td>0</td>\n",
       "      <td>0</td>\n",
       "      <td>Benign</td>\n",
       "      <td>Benign</td>\n",
       "    </tr>\n",
       "    <tr>\n",
       "      <th>...</th>\n",
       "      <td>...</td>\n",
       "      <td>...</td>\n",
       "      <td>...</td>\n",
       "      <td>...</td>\n",
       "      <td>...</td>\n",
       "      <td>...</td>\n",
       "      <td>...</td>\n",
       "      <td>...</td>\n",
       "      <td>...</td>\n",
       "      <td>...</td>\n",
       "      <td>...</td>\n",
       "      <td>...</td>\n",
       "      <td>...</td>\n",
       "      <td>...</td>\n",
       "      <td>...</td>\n",
       "      <td>...</td>\n",
       "      <td>...</td>\n",
       "      <td>...</td>\n",
       "    </tr>\n",
       "    <tr>\n",
       "      <th>1444701</th>\n",
       "      <td>192.168.2.5</td>\n",
       "      <td>41559</td>\n",
       "      <td>219.22.220.94</td>\n",
       "      <td>22</td>\n",
       "      <td>tcp</td>\n",
       "      <td>NaN</td>\n",
       "      <td>NaN</td>\n",
       "      <td>NaN</td>\n",
       "      <td>NaN</td>\n",
       "      <td>S0</td>\n",
       "      <td>0</td>\n",
       "      <td>S</td>\n",
       "      <td>1</td>\n",
       "      <td>60</td>\n",
       "      <td>0</td>\n",
       "      <td>0</td>\n",
       "      <td>Malicious</td>\n",
       "      <td>PartOfAHorizontalPortScan</td>\n",
       "    </tr>\n",
       "    <tr>\n",
       "      <th>1444702</th>\n",
       "      <td>192.168.2.5</td>\n",
       "      <td>33619</td>\n",
       "      <td>219.150.110.230</td>\n",
       "      <td>22</td>\n",
       "      <td>tcp</td>\n",
       "      <td>NaN</td>\n",
       "      <td>2.999363</td>\n",
       "      <td>0.0</td>\n",
       "      <td>0.0</td>\n",
       "      <td>S0</td>\n",
       "      <td>0</td>\n",
       "      <td>S</td>\n",
       "      <td>3</td>\n",
       "      <td>180</td>\n",
       "      <td>0</td>\n",
       "      <td>0</td>\n",
       "      <td>Malicious</td>\n",
       "      <td>PartOfAHorizontalPortScan</td>\n",
       "    </tr>\n",
       "    <tr>\n",
       "      <th>1444703</th>\n",
       "      <td>192.168.2.5</td>\n",
       "      <td>48481</td>\n",
       "      <td>219.34.35.98</td>\n",
       "      <td>22</td>\n",
       "      <td>tcp</td>\n",
       "      <td>NaN</td>\n",
       "      <td>NaN</td>\n",
       "      <td>NaN</td>\n",
       "      <td>NaN</td>\n",
       "      <td>S0</td>\n",
       "      <td>0</td>\n",
       "      <td>S</td>\n",
       "      <td>1</td>\n",
       "      <td>60</td>\n",
       "      <td>0</td>\n",
       "      <td>0</td>\n",
       "      <td>Malicious</td>\n",
       "      <td>PartOfAHorizontalPortScan</td>\n",
       "    </tr>\n",
       "    <tr>\n",
       "      <th>1444704</th>\n",
       "      <td>192.168.2.5</td>\n",
       "      <td>54243</td>\n",
       "      <td>219.122.26.35</td>\n",
       "      <td>22</td>\n",
       "      <td>tcp</td>\n",
       "      <td>NaN</td>\n",
       "      <td>2.997674</td>\n",
       "      <td>0.0</td>\n",
       "      <td>0.0</td>\n",
       "      <td>S0</td>\n",
       "      <td>0</td>\n",
       "      <td>S</td>\n",
       "      <td>3</td>\n",
       "      <td>180</td>\n",
       "      <td>0</td>\n",
       "      <td>0</td>\n",
       "      <td>Malicious</td>\n",
       "      <td>PartOfAHorizontalPortScan</td>\n",
       "    </tr>\n",
       "    <tr>\n",
       "      <th>1444705</th>\n",
       "      <td>192.168.2.5</td>\n",
       "      <td>35588</td>\n",
       "      <td>200.168.87.203</td>\n",
       "      <td>59353</td>\n",
       "      <td>tcp</td>\n",
       "      <td>NaN</td>\n",
       "      <td>2.999386</td>\n",
       "      <td>0.0</td>\n",
       "      <td>0.0</td>\n",
       "      <td>S0</td>\n",
       "      <td>0</td>\n",
       "      <td>S</td>\n",
       "      <td>3</td>\n",
       "      <td>180</td>\n",
       "      <td>0</td>\n",
       "      <td>0</td>\n",
       "      <td>Malicious</td>\n",
       "      <td>PartOfAHorizontalPortScan</td>\n",
       "    </tr>\n",
       "  </tbody>\n",
       "</table>\n",
       "<p>1444706 rows × 18 columns</p>\n",
       "</div>"
      ],
      "text/plain": [
       "               id.orig_h  id.orig_p        id.resp_h  id.resp_p proto service  \\\n",
       "0        192.168.100.111      40008    46.28.110.244        123   udp     NaN   \n",
       "1        192.168.100.102      57849  192.168.100.111         22   tcp     NaN   \n",
       "2        192.168.100.102      59670  192.168.100.111         22   tcp     NaN   \n",
       "3        192.168.100.102      59701  192.168.100.111         22   tcp     NaN   \n",
       "4        192.168.100.111      36199    192.168.100.1         53   udp     dns   \n",
       "...                  ...        ...              ...        ...   ...     ...   \n",
       "1444701      192.168.2.5      41559    219.22.220.94         22   tcp     NaN   \n",
       "1444702      192.168.2.5      33619  219.150.110.230         22   tcp     NaN   \n",
       "1444703      192.168.2.5      48481     219.34.35.98         22   tcp     NaN   \n",
       "1444704      192.168.2.5      54243    219.122.26.35         22   tcp     NaN   \n",
       "1444705      192.168.2.5      35588   200.168.87.203      59353   tcp     NaN   \n",
       "\n",
       "           duration  orig_bytes  resp_bytes conn_state  missed_bytes history  \\\n",
       "0          0.004751        48.0        48.0         SF             0      Dd   \n",
       "1        108.421563      2376.0        96.0        OTH             0     DAd   \n",
       "2          0.001244        21.0         0.0         S0             0     SAD   \n",
       "3          0.000738        21.0         0.0         S0             0     SAD   \n",
       "4               NaN         NaN         NaN         S0             0       D   \n",
       "...             ...         ...         ...        ...           ...     ...   \n",
       "1444701         NaN         NaN         NaN         S0             0       S   \n",
       "1444702    2.999363         0.0         0.0         S0             0       S   \n",
       "1444703         NaN         NaN         NaN         S0             0       S   \n",
       "1444704    2.997674         0.0         0.0         S0             0       S   \n",
       "1444705    2.999386         0.0         0.0         S0             0       S   \n",
       "\n",
       "         orig_pkts  orig_ip_bytes  resp_pkts  resp_ip_bytes      label  \\\n",
       "0                1             76          1             76     Benign   \n",
       "1                5            332          2            200     Benign   \n",
       "2                3            189          0              0     Benign   \n",
       "3                3            189          0              0     Benign   \n",
       "4                1             58          0              0     Benign   \n",
       "...            ...            ...        ...            ...        ...   \n",
       "1444701          1             60          0              0  Malicious   \n",
       "1444702          3            180          0              0  Malicious   \n",
       "1444703          1             60          0              0  Malicious   \n",
       "1444704          3            180          0              0  Malicious   \n",
       "1444705          3            180          0              0  Malicious   \n",
       "\n",
       "                    detailed_label  \n",
       "0                           Benign  \n",
       "1                           Benign  \n",
       "2                           Benign  \n",
       "3                           Benign  \n",
       "4                           Benign  \n",
       "...                            ...  \n",
       "1444701  PartOfAHorizontalPortScan  \n",
       "1444702  PartOfAHorizontalPortScan  \n",
       "1444703  PartOfAHorizontalPortScan  \n",
       "1444704  PartOfAHorizontalPortScan  \n",
       "1444705  PartOfAHorizontalPortScan  \n",
       "\n",
       "[1444706 rows x 18 columns]"
      ]
     },
     "execution_count": 5,
     "metadata": {},
     "output_type": "execute_result"
    }
   ],
   "source": [
    "# Check dataset\n",
    "df"
   ]
  },
  {
   "cell_type": "code",
   "execution_count": 6,
   "id": "1e2e0a28-1466-4753-91bd-cf95a337a892",
   "metadata": {},
   "outputs": [
    {
     "name": "stdout",
     "output_type": "stream",
     "text": [
      "<class 'pandas.core.frame.DataFrame'>\n",
      "Index: 1444706 entries, 0 to 1444705\n",
      "Data columns (total 18 columns):\n",
      " #   Column          Non-Null Count    Dtype  \n",
      "---  ------          --------------    -----  \n",
      " 0   id.orig_h       1444706 non-null  object \n",
      " 1   id.orig_p       1444706 non-null  int64  \n",
      " 2   id.resp_h       1444706 non-null  object \n",
      " 3   id.resp_p       1444706 non-null  int64  \n",
      " 4   proto           1444706 non-null  object \n",
      " 5   service         10660 non-null    object \n",
      " 6   duration        544597 non-null   float64\n",
      " 7   orig_bytes      544597 non-null   float64\n",
      " 8   resp_bytes      544597 non-null   float64\n",
      " 9   conn_state      1444706 non-null  object \n",
      " 10  missed_bytes    1444706 non-null  int64  \n",
      " 11  history         1441055 non-null  object \n",
      " 12  orig_pkts       1444706 non-null  int64  \n",
      " 13  orig_ip_bytes   1444706 non-null  int64  \n",
      " 14  resp_pkts       1444706 non-null  int64  \n",
      " 15  resp_ip_bytes   1444706 non-null  int64  \n",
      " 16  label           1444706 non-null  object \n",
      " 17  detailed_label  1444706 non-null  object \n",
      "dtypes: float64(3), int64(7), object(8)\n",
      "memory usage: 209.4+ MB\n"
     ]
    }
   ],
   "source": [
    "# Check dataset summary\n",
    "df.info()"
   ]
  },
  {
   "cell_type": "markdown",
   "id": "43b9dbea-a6d1-457d-a939-195ae3d731da",
   "metadata": {},
   "source": [
    "### 3. DATA PREPROCESSING"
   ]
  },
  {
   "cell_type": "code",
   "execution_count": 7,
   "id": "82ec6262-b9e2-48e5-bfed-cfb4f0cae2bf",
   "metadata": {},
   "outputs": [
    {
     "data": {
      "text/plain": [
       "0"
      ]
     },
     "execution_count": 7,
     "metadata": {},
     "output_type": "execute_result"
    }
   ],
   "source": [
    "# Check null values in the target attribute\n",
    "df[\"label\"].isna().sum()"
   ]
  },
  {
   "cell_type": "code",
   "execution_count": 8,
   "id": "60a0be89-99a0-4e92-a230-38f404031b7d",
   "metadata": {},
   "outputs": [
    {
     "data": {
      "text/plain": [
       "label\n",
       "Malicious    1246872\n",
       "Benign        197834\n",
       "Name: count, dtype: int64"
      ]
     },
     "execution_count": 8,
     "metadata": {},
     "output_type": "execute_result"
    }
   ],
   "source": [
    "# Check values distribution\n",
    "df[\"label\"].value_counts()"
   ]
  },
  {
   "cell_type": "code",
   "execution_count": 9,
   "id": "6a089a0d-07ba-4d45-b00a-534fa4913f6b",
   "metadata": {},
   "outputs": [
    {
     "data": {
      "text/plain": [
       "<Axes: xlabel='label', ylabel='count'>"
      ]
     },
     "execution_count": 9,
     "metadata": {},
     "output_type": "execute_result"
    },
    {
     "data": {
      "image/png": "[encoded data removed]",
      "text/plain": [
       "<Figure size 640x480 with 1 Axes>"
      ]
     },
     "metadata": {},
     "output_type": "display_data"
    }
   ],
   "source": [
    "# Plot target attribute on a count plot\n",
    "sns.countplot(data=df, x=\"label\")"
   ]
  },
  {
   "cell_type": "markdown",
   "id": "b4d56fc5-f5eb-44d8-ba0c-263a43a5c456",
   "metadata": {},
   "source": [
    "- As we can see from these statistics, the target attribute is highly imbalanced.\n",
    "- We will maintain the original distribution for now until we explore the models' performance. \n",
    "- Suitable techniques will be applied to re-balance the labels if we couldn't achieve an acceptable prediction accuracy. "
   ]
  },
  {
   "cell_type": "code",
   "execution_count": 10,
   "id": "66af30fd-1bb7-48d3-9374-b4f370dff660",
   "metadata": {},
   "outputs": [
    {
     "data": {
      "text/plain": [
       "0"
      ]
     },
     "execution_count": 10,
     "metadata": {},
     "output_type": "execute_result"
    }
   ],
   "source": [
    "# Check null values in the target attribute\n",
    "df[\"detailed_label\"].isna().sum()"
   ]
  },
  {
   "cell_type": "code",
   "execution_count": 11,
   "id": "4f16f619-36c5-47d8-bbb7-55a08779dacb",
   "metadata": {},
   "outputs": [
    {
     "data": {
      "text/plain": [
       "detailed_label\n",
       "PartOfAHorizontalPortScan     825931\n",
       "Okiru                         262687\n",
       "Benign                        197834\n",
       "DDoS                          138775\n",
       "C&C                            15107\n",
       "Attack                          3915\n",
       "C&C-HeartBeat                    351\n",
       "C&C-FileDownload                  47\n",
       "C&C-Torii                         30\n",
       "FileDownload                      17\n",
       "C&C-HeartBeat-FileDownload        11\n",
       "C&C-Mirai                          1\n",
       "Name: count, dtype: int64"
      ]
     },
     "execution_count": 11,
     "metadata": {},
     "output_type": "execute_result"
    }
   ],
   "source": [
    "# Check values distribution\n",
    "df[\"detailed_label\"].value_counts()"
   ]
  },
  {
   "cell_type": "code",
   "execution_count": 12,
   "id": "4c8c2c32-22c0-4cef-aade-c578011fd7bb",
   "metadata": {},
   "outputs": [
    {
     "data": {
      "image/png": "[encoded data removed]",
      "text/plain": [
       "<Figure size 1000x600 with 1 Axes>"
      ]
     },
     "metadata": {},
     "output_type": "display_data"
    }
   ],
   "source": [
    "# Count the number of events for each label in detailed\n",
    "event_label_counts = df['detailed_label'].value_counts()\n",
    "\n",
    "# Visualization: Bar chart displaying the frequency of each network event type\n",
    "plt.figure(figsize=(10, 6))\n",
    "event_label_counts.plot(kind='bar', color='skyblue')\n",
    "plt.title('Detailed Network Distribution Events by Label')\n",
    "plt.xlabel('Event Label')\n",
    "plt.ylabel('Frequency')\n",
    "plt.xticks(rotation=45, ha='right')\n",
    "plt.tight_layout()\n",
    "\n",
    "plt.show()"
   ]
  },
  {
   "cell_type": "code",
   "execution_count": 13,
   "id": "2c31567c-4da5-4aab-98cb-0d5367a0f77d",
   "metadata": {},
   "outputs": [
    {
     "data": {
      "text/plain": [
       "{'Benign': 0, 'Malicious': 1}"
      ]
     },
     "execution_count": 13,
     "metadata": {},
     "output_type": "execute_result"
    }
   ],
   "source": [
    "# Initialize encoder with default parameters\n",
    "target_le = LabelEncoder()\n",
    "\n",
    "# Fit the encoder to the target attribute\n",
    "encoded_attribute = target_le.fit_transform(df[\"label\"])\n",
    "\n",
    "# Replace target attribute with encoded values\n",
    "df[\"label\"] = encoded_attribute\n",
    "\n",
    "# Check mapped labels\n",
    "dict(zip(target_le.classes_, target_le.transform(target_le.classes_)))"
   ]
  },
  {
   "cell_type": "code",
   "execution_count": 14,
   "id": "2d298d8f-b28c-4820-93f1-cf9ba2632fca",
   "metadata": {},
   "outputs": [
    {
     "data": {
      "text/plain": [
       "{'Attack': 0,\n",
       " 'Benign': 1,\n",
       " 'C&C': 2,\n",
       " 'C&C-FileDownload': 3,\n",
       " 'C&C-HeartBeat': 4,\n",
       " 'C&C-HeartBeat-FileDownload': 5,\n",
       " 'C&C-Mirai': 6,\n",
       " 'C&C-Torii': 7,\n",
       " 'DDoS': 8,\n",
       " 'FileDownload': 9,\n",
       " 'Okiru': 10,\n",
       " 'PartOfAHorizontalPortScan': 11}"
      ]
     },
     "execution_count": 14,
     "metadata": {},
     "output_type": "execute_result"
    }
   ],
   "source": [
    "# Initialize encoder with default parameters\n",
    "target_le = LabelEncoder()\n",
    "\n",
    "# Fit the encoder to the target attribute\n",
    "encoded_attribute = target_le.fit_transform(df[\"detailed_label\"])\n",
    "\n",
    "# Replace target attribute with encoded values\n",
    "df[\"detailed_label\"] = encoded_attribute\n",
    "\n",
    "# Check mapped labels\n",
    "dict(zip(target_le.classes_, target_le.transform(target_le.classes_)))"
   ]
  },
  {
   "cell_type": "code",
   "execution_count": 15,
   "id": "e7d716d7-94db-41df-8063-9816a6058b2d",
   "metadata": {},
   "outputs": [
    {
     "data": {
      "image/png": "[encoded data removed]",
      "text/plain": [
       "<Figure size 800x800 with 1 Axes>"
      ]
     },
     "metadata": {},
     "output_type": "display_data"
    }
   ],
   "source": [
    "# Count the frequency of each network protocol\n",
    "protocol_usage_counts = df['proto'].value_counts()\n",
    "\n",
    "# Visualization: Pie chart showing the proportion of each protocol used\n",
    "plt.figure(figsize=(8, 8))\n",
    "plt.pie(protocol_usage_counts, labels=protocol_usage_counts.index, autopct='%1.1f%%', startangle=140)\n",
    "plt.title('Protocol Usage Frequency')\n",
    "plt.axis('equal')\n",
    "\n",
    "plt.show()"
   ]
  },
  {
   "cell_type": "code",
   "execution_count": 16,
   "id": "7349e690-f865-4092-858b-558674b919c8",
   "metadata": {},
   "outputs": [
    {
     "data": {
      "text/html": [
       "<div>\n",
       "<style scoped>\n",
       "    .dataframe tbody tr th:only-of-type {\n",
       "        vertical-align: middle;\n",
       "    }\n",
       "\n",
       "    .dataframe tbody tr th {\n",
       "        vertical-align: top;\n",
       "    }\n",
       "\n",
       "    .dataframe thead th {\n",
       "        text-align: right;\n",
       "    }\n",
       "</style>\n",
       "<table border=\"1\" class=\"dataframe\">\n",
       "  <thead>\n",
       "    <tr style=\"text-align: right;\">\n",
       "      <th></th>\n",
       "      <th>duration</th>\n",
       "      <th>orig_bytes</th>\n",
       "      <th>resp_bytes</th>\n",
       "      <th>missed_bytes</th>\n",
       "      <th>orig_pkts</th>\n",
       "      <th>orig_ip_bytes</th>\n",
       "      <th>resp_pkts</th>\n",
       "      <th>resp_ip_bytes</th>\n",
       "    </tr>\n",
       "  </thead>\n",
       "  <tbody>\n",
       "    <tr>\n",
       "      <th>count</th>\n",
       "      <td>544597.000000</td>\n",
       "      <td>5.445970e+05</td>\n",
       "      <td>5.445970e+05</td>\n",
       "      <td>1.444706e+06</td>\n",
       "      <td>1.444706e+06</td>\n",
       "      <td>1.444706e+06</td>\n",
       "      <td>1.444706e+06</td>\n",
       "      <td>1.444706e+06</td>\n",
       "    </tr>\n",
       "    <tr>\n",
       "      <th>mean</th>\n",
       "      <td>1.833372</td>\n",
       "      <td>7.230143e+03</td>\n",
       "      <td>5.656917e+01</td>\n",
       "      <td>2.109737e-01</td>\n",
       "      <td>1.780481e+02</td>\n",
       "      <td>7.745423e+03</td>\n",
       "      <td>1.269158e-01</td>\n",
       "      <td>3.006576e+01</td>\n",
       "    </tr>\n",
       "    <tr>\n",
       "      <th>std</th>\n",
       "      <td>139.545955</td>\n",
       "      <td>2.792870e+06</td>\n",
       "      <td>1.587521e+04</td>\n",
       "      <td>4.366926e+01</td>\n",
       "      <td>7.230341e+04</td>\n",
       "      <td>2.849377e+06</td>\n",
       "      <td>1.548112e+01</td>\n",
       "      <td>1.017120e+04</td>\n",
       "    </tr>\n",
       "    <tr>\n",
       "      <th>min</th>\n",
       "      <td>0.000001</td>\n",
       "      <td>0.000000e+00</td>\n",
       "      <td>0.000000e+00</td>\n",
       "      <td>0.000000e+00</td>\n",
       "      <td>0.000000e+00</td>\n",
       "      <td>0.000000e+00</td>\n",
       "      <td>0.000000e+00</td>\n",
       "      <td>0.000000e+00</td>\n",
       "    </tr>\n",
       "    <tr>\n",
       "      <th>25%</th>\n",
       "      <td>0.000002</td>\n",
       "      <td>0.000000e+00</td>\n",
       "      <td>0.000000e+00</td>\n",
       "      <td>0.000000e+00</td>\n",
       "      <td>1.000000e+00</td>\n",
       "      <td>4.000000e+01</td>\n",
       "      <td>0.000000e+00</td>\n",
       "      <td>0.000000e+00</td>\n",
       "    </tr>\n",
       "    <tr>\n",
       "      <th>50%</th>\n",
       "      <td>0.000006</td>\n",
       "      <td>0.000000e+00</td>\n",
       "      <td>0.000000e+00</td>\n",
       "      <td>0.000000e+00</td>\n",
       "      <td>1.000000e+00</td>\n",
       "      <td>4.000000e+01</td>\n",
       "      <td>0.000000e+00</td>\n",
       "      <td>0.000000e+00</td>\n",
       "    </tr>\n",
       "    <tr>\n",
       "      <th>75%</th>\n",
       "      <td>2.998537</td>\n",
       "      <td>0.000000e+00</td>\n",
       "      <td>0.000000e+00</td>\n",
       "      <td>0.000000e+00</td>\n",
       "      <td>2.000000e+00</td>\n",
       "      <td>8.000000e+01</td>\n",
       "      <td>0.000000e+00</td>\n",
       "      <td>0.000000e+00</td>\n",
       "    </tr>\n",
       "    <tr>\n",
       "      <th>max</th>\n",
       "      <td>48976.819063</td>\n",
       "      <td>1.744830e+09</td>\n",
       "      <td>1.166102e+07</td>\n",
       "      <td>2.027200e+04</td>\n",
       "      <td>6.602735e+07</td>\n",
       "      <td>1.914793e+09</td>\n",
       "      <td>9.307000e+03</td>\n",
       "      <td>1.207699e+07</td>\n",
       "    </tr>\n",
       "  </tbody>\n",
       "</table>\n",
       "</div>"
      ],
      "text/plain": [
       "            duration    orig_bytes    resp_bytes  missed_bytes     orig_pkts  \\\n",
       "count  544597.000000  5.445970e+05  5.445970e+05  1.444706e+06  1.444706e+06   \n",
       "mean        1.833372  7.230143e+03  5.656917e+01  2.109737e-01  1.780481e+02   \n",
       "std       139.545955  2.792870e+06  1.587521e+04  4.366926e+01  7.230341e+04   \n",
       "min         0.000001  0.000000e+00  0.000000e+00  0.000000e+00  0.000000e+00   \n",
       "25%         0.000002  0.000000e+00  0.000000e+00  0.000000e+00  1.000000e+00   \n",
       "50%         0.000006  0.000000e+00  0.000000e+00  0.000000e+00  1.000000e+00   \n",
       "75%         2.998537  0.000000e+00  0.000000e+00  0.000000e+00  2.000000e+00   \n",
       "max     48976.819063  1.744830e+09  1.166102e+07  2.027200e+04  6.602735e+07   \n",
       "\n",
       "       orig_ip_bytes     resp_pkts  resp_ip_bytes  \n",
       "count   1.444706e+06  1.444706e+06   1.444706e+06  \n",
       "mean    7.745423e+03  1.269158e-01   3.006576e+01  \n",
       "std     2.849377e+06  1.548112e+01   1.017120e+04  \n",
       "min     0.000000e+00  0.000000e+00   0.000000e+00  \n",
       "25%     4.000000e+01  0.000000e+00   0.000000e+00  \n",
       "50%     4.000000e+01  0.000000e+00   0.000000e+00  \n",
       "75%     8.000000e+01  0.000000e+00   0.000000e+00  \n",
       "max     1.914793e+09  9.307000e+03   1.207699e+07  "
      ]
     },
     "execution_count": 16,
     "metadata": {},
     "output_type": "execute_result"
    }
   ],
   "source": [
    "# Use describe() method to obtain general statistics about the numerical features\n",
    "numerical_features = [\"duration\", \"orig_bytes\",\t\"resp_bytes\", \"missed_bytes\", \"orig_pkts\",\t\"orig_ip_bytes\", \"resp_pkts\", \"resp_ip_bytes\"]\n",
    "df[numerical_features].describe()"
   ]
  },
  {
   "cell_type": "markdown",
   "id": "5e7c2c70-d6a8-44fe-8017-58a7fcb0772c",
   "metadata": {},
   "source": [
    "- As we can see from these statistics, the target attribute is highly imbalanced.\n",
    "- We will maintain the original distribution for now until we explore the models' performance. \n",
    "- Suitable techniques will be applied to re-balance the labels if we couldn't achieve an acceptable prediction accuracy. "
   ]
  },
  {
   "cell_type": "code",
   "execution_count": 17,
   "id": "d93911e2-769a-4fe9-baa4-df796555b7e9",
   "metadata": {},
   "outputs": [
    {
     "data": {
      "text/plain": [
       "<Axes: ylabel='duration'>"
      ]
     },
     "execution_count": 17,
     "metadata": {},
     "output_type": "execute_result"
    },
    {
     "data": {
      "image/png": "[encoded data removed]",
      "text/plain": [
       "<Figure size 640x480 with 1 Axes>"
      ]
     },
     "metadata": {},
     "output_type": "display_data"
    }
   ],
   "source": [
    "# Plot \"duration\" feature on a boxplot\n",
    "sns.boxplot(data=df, y=\"duration\")"
   ]
  },
  {
   "cell_type": "code",
   "execution_count": 18,
   "id": "58a0b317-46d8-4f1f-b187-5a3a4129bca2",
   "metadata": {},
   "outputs": [
    {
     "name": "stdout",
     "output_type": "stream",
     "text": [
      "(min,max) bounds for \"duration\": (-4.497800499999999,7.4963394999999995)\n"
     ]
    }
   ],
   "source": [
    "# Replace outliers using IQR (Inter-quartile Range)\n",
    "outliers_columns = ['duration']\n",
    "for col_name in outliers_columns:\n",
    "    # Calculate first and third quartiles\n",
    "    q1, q3 = np.nanpercentile(df[col_name],[25,75])\n",
    "    \n",
    "    # Calculate the inter-quartile range\n",
    "    intr_qr = q3-q1\n",
    "\n",
    "    # Calculate lower and higher bounds\n",
    "    iqr_min_val = q1-(1.5*intr_qr)\n",
    "    iqr_max_val = q3+(1.5*intr_qr)\n",
    "    print(f\"(min,max) bounds for \\\"{col_name}\\\": ({iqr_min_val},{iqr_max_val})\")\n",
    "    \n",
    "    # Replace values that are less than min or larger then max with np.nan\n",
    "    df.loc[df[col_name] < iqr_min_val, col_name] = np.nan\n",
    "    df.loc[df[col_name] > iqr_max_val, col_name] = np.nan"
   ]
  },
  {
   "cell_type": "code",
   "execution_count": 19,
   "id": "7b779fe8-e68e-49df-b2ed-639d07aefe20",
   "metadata": {},
   "outputs": [
    {
     "data": {
      "text/plain": [
       "count    542298.000000\n",
       "mean          1.016810\n",
       "std           1.464098\n",
       "min           0.000001\n",
       "25%           0.000002\n",
       "50%           0.000006\n",
       "75%           2.998364\n",
       "max           7.496058\n",
       "Name: duration, dtype: float64"
      ]
     },
     "execution_count": 19,
     "metadata": {},
     "output_type": "execute_result"
    }
   ],
   "source": [
    "# Reevaluate the new distribution of values\n",
    "df[\"duration\"].describe()"
   ]
  },
  {
   "cell_type": "code",
   "execution_count": 20,
   "id": "bae40a3c-023f-4f07-b10b-dfcc2bb05f58",
   "metadata": {},
   "outputs": [
    {
     "name": "stdout",
     "output_type": "stream",
     "text": [
      "Summary Statistics of Connection Duration by Label:\n",
      "                   count      mean       std       min       25%       50%  \\\n",
      "detailed_label                                                               \n",
      "0                 3715.0  3.657807  1.795855  0.013494  2.293978  3.732093   \n",
      "1                66997.0  2.547031  1.254282  0.000001  3.084015  3.112729   \n",
      "2                 5813.0  2.934148  0.685407  0.000002  3.090987  3.115235   \n",
      "3                   47.0  1.835635  1.146154  0.600404  0.976071  1.531888   \n",
      "4                  273.0  1.495637  1.370355  0.000014  0.055220  1.837287   \n",
      "5                   11.0  1.429270  0.486227  0.856751  1.059137  1.151358   \n",
      "6                    1.0  0.329079       NaN  0.329079  0.329079  0.329079   \n",
      "7                   11.0  2.861876  0.621480  1.191069  3.097484  3.118731   \n",
      "8                24971.0  0.001682  0.079386  0.000001  0.000002  0.000002   \n",
      "9                   16.0  2.406669  1.356820  0.569426  1.341338  1.913619   \n",
      "10               25120.0  0.003139  0.063599  0.000001  0.000002  0.000002   \n",
      "11              415323.0  0.841331  1.364110  0.000001  0.000002  0.000005   \n",
      "\n",
      "                     75%       max  \n",
      "detailed_label                      \n",
      "0               5.065183  7.496058  \n",
      "1               3.137723  7.161198  \n",
      "2               3.140205  5.106080  \n",
      "3               2.101555  5.110081  \n",
      "4               3.108471  3.203934  \n",
      "5               1.868554  2.182247  \n",
      "6               0.329079  0.329079  \n",
      "7               3.131463  3.154212  \n",
      "8               0.000002  4.989434  \n",
      "9               3.311873  4.675323  \n",
      "10              0.000002  4.173871  \n",
      "11              2.992716  5.438156  \n"
     ]
    }
   ],
   "source": [
    "# Check connection duration by label'\n",
    "connection_duration_by_label = df.groupby('detailed_label')['duration'].describe()\n",
    "print(\"Summary Statistics of Connection Duration by Label:\")\n",
    "print(connection_duration_by_label)"
   ]
  },
  {
   "cell_type": "code",
   "execution_count": 21,
   "id": "651f7017-51e5-47c1-851e-86c2c130aa24",
   "metadata": {},
   "outputs": [],
   "source": [
    "# A method to encode an ip address using the IPv4/IPv6 manipulation library\n",
    "def encode_ipv4(ip):\n",
    "    return int(ipaddress.IPv4Address(ip))"
   ]
  },
  {
   "cell_type": "code",
   "execution_count": 22,
   "id": "7d1010cd-3367-470b-b0a8-153e063b8f13",
   "metadata": {},
   "outputs": [],
   "source": [
    "# Encode ip features into numerical values\n",
    "df[\"id.orig_h\"] = df[\"id.orig_h\"].apply(encode_ipv4)\n",
    "df[\"id.resp_h\"] = df[\"id.resp_h\"].apply(encode_ipv4)"
   ]
  },
  {
   "cell_type": "code",
   "execution_count": 23,
   "id": "d725eac6-6450-442a-abd7-bfc7917fb5d8",
   "metadata": {},
   "outputs": [
    {
     "name": "stdout",
     "output_type": "stream",
     "text": [
      "IP col (id.orig_h) values: [3232261231 3232261222 3211263738 ... 3525458814 3723033929 3682566858]\n",
      "IP col (id.resp_h) values: [ 773615348 3232261231 3232261121 ... 3674887997 3684069094 3682212387]\n"
     ]
    }
   ],
   "source": [
    "# Check encoded ip addresses\n",
    "ip_columns = [\"id.orig_h\",\"id.resp_h\"]\n",
    "for c in ip_columns:\n",
    "    print(f\"IP col ({c}) values: {df[c].unique()}\")"
   ]
  },
  {
   "cell_type": "code",
   "execution_count": 24,
   "id": "bbd1dd36-a479-4e81-914f-b849996ab836",
   "metadata": {},
   "outputs": [
    {
     "data": {
      "text/plain": [
       "service           1434046\n",
       "duration           902408\n",
       "orig_bytes         900109\n",
       "resp_bytes         900109\n",
       "history              3651\n",
       "id.orig_h               0\n",
       "label                   0\n",
       "resp_ip_bytes           0\n",
       "resp_pkts               0\n",
       "orig_ip_bytes           0\n",
       "orig_pkts               0\n",
       "conn_state              0\n",
       "missed_bytes            0\n",
       "id.orig_p               0\n",
       "proto                   0\n",
       "id.resp_p               0\n",
       "id.resp_h               0\n",
       "detailed_label          0\n",
       "dtype: int64"
      ]
     },
     "execution_count": 24,
     "metadata": {},
     "output_type": "execute_result"
    }
   ],
   "source": [
    "# Check the number of null values in each column\n",
    "df.isnull().sum().sort_values(ascending=False)"
   ]
  },
  {
   "cell_type": "code",
   "execution_count": 25,
   "id": "9652b85e-484a-4aa2-8ab1-2c9032f20579",
   "metadata": {},
   "outputs": [
    {
     "data": {
      "text/plain": [
       "<Axes: >"
      ]
     },
     "execution_count": 25,
     "metadata": {},
     "output_type": "execute_result"
    },
    {
     "data": {
      "image/png": "[encoded data removed]",
      "text/plain": [
       "<Figure size 640x480 with 1 Axes>"
      ]
     },
     "metadata": {},
     "output_type": "display_data"
    }
   ],
   "source": [
    "# Check null values using heatmap\n",
    "sns.heatmap(data=df.isnull(), yticklabels=False, cbar=False, cmap=\"viridis\")"
   ]
  },
  {
   "cell_type": "markdown",
   "id": "60f7118d-d7b9-4075-82fc-91cf1927e40b",
   "metadata": {},
   "source": [
    "- There are only 4 columns with a lot of missing values, one categorical (\"service) and three numerical (\"duration\", \"orig_bytes\", \"resp_bytes\").\n",
    "- One possible approach is to entirely discard these columns from the dataset. \n",
    "- Instead, we will try to impute their values to preserve any hidden information and check if we can obtain better prediction performance."
   ]
  },
  {
   "cell_type": "code",
   "execution_count": 26,
   "id": "7aaf5ba3-630d-4f84-804f-8f52be0b7716",
   "metadata": {},
   "outputs": [
    {
     "data": {
      "text/plain": [
       "<Axes: xlabel='label', ylabel='count'>"
      ]
     },
     "execution_count": 26,
     "metadata": {},
     "output_type": "execute_result"
    },
    {
     "data": {
      "image/png": "[encoded data removed]",
      "text/plain": [
       "<Figure size 640x480 with 1 Axes>"
      ]
     },
     "metadata": {},
     "output_type": "display_data"
    }
   ],
   "source": [
    "# Check the relationship between the \"service\" and the target attribute\n",
    "sns.countplot(data=df, x=\"label\", hue=\"service\")"
   ]
  },
  {
   "cell_type": "markdown",
   "id": "ca7d1a25-bbed-4c09-9607-4ebcc73ff7e4",
   "metadata": {},
   "source": [
    "- Due to this visualization, almost all *Malicious* observations belong to a specific service type (\"dns\"), while the other 3 types represent *Benign* samples.\n",
    "- Accordingly, although \"service\" feature has high number of missing values, it has a strong correlation with the target attribute.\n",
    "- The decision here is to keep \"service\" attribute while trying to impute its missing values using another classifier. "
   ]
  },
  {
   "cell_type": "code",
   "execution_count": 27,
   "id": "ad905c2c-58de-44e4-9155-662557455077",
   "metadata": {},
   "outputs": [
    {
     "name": "stdout",
     "output_type": "stream",
     "text": [
      "Prediction accuracy for 'service' is: 0.9967166979362101\n",
      "Classification report:\n",
      "              precision    recall  f1-score   support\n",
      "\n",
      "        dhcp       1.00      1.00      1.00         2\n",
      "         dns       1.00      1.00      1.00       929\n",
      "        http       0.99      0.97      0.98       105\n",
      "         irc       0.99      1.00      1.00       313\n",
      "         ssh       1.00      1.00      1.00       781\n",
      "         ssl       0.00      0.00      0.00         2\n",
      "\n",
      "    accuracy                           1.00      2132\n",
      "   macro avg       0.83      0.83      0.83      2132\n",
      "weighted avg       1.00      1.00      1.00      2132\n",
      "\n"
     ]
    }
   ],
   "source": [
    "# Select specific columns to be used for the classification, here we initially select the numerical attributes with no missing values.\n",
    "srv_training_columns = [\"id.orig_h\",\"id.orig_p\",\"id.resp_h\",\"id.resp_p\",\"missed_bytes\",\"orig_pkts\",\"orig_ip_bytes\",\"resp_pkts\",\"resp_ip_bytes\"] \n",
    "\n",
    "# Split the rows into two datasets containing rows with/without \"service\"\n",
    "data_df_with_service = df[df[\"service\"].notna()]\n",
    "data_df_no_service = df[df[\"service\"].isna()]\n",
    "\n",
    "# Split the service dataset into dependent and independent features\n",
    "srv_X = data_df_with_service[srv_training_columns]\n",
    "srv_y = data_df_with_service[\"service\"].values\n",
    "\n",
    "# Split into train/test subsets\n",
    "srv_X_train, srv_X_test, srv_y_train, srv_y_test = train_test_split(srv_X, srv_y, test_size=0.2, random_state=0)\n",
    "\n",
    "# Create KNN estimator and fit it\n",
    "srv_knn = KNeighborsClassifier(n_neighbors=3)\n",
    "srv_knn.fit(srv_X_train, srv_y_train)\n",
    "\n",
    "# Predict missing values\n",
    "srv_y_pred = srv_knn.predict(srv_X_test)\n",
    "\n",
    "# Check predictions accuracy\n",
    "srv_accuracy_test = accuracy_score(srv_y_test, srv_y_pred)\n",
    "print(f\"Prediction accuracy for 'service' is: {srv_accuracy_test}\")\n",
    "print(\"Classification report:\")\n",
    "print(classification_report(srv_y_test, srv_y_pred))"
   ]
  },
  {
   "cell_type": "markdown",
   "id": "2433c436-bd2a-49cc-a2c7-39f99d7af2b7",
   "metadata": {},
   "source": [
    "The classification model achieved an accuracy of almost 100%, which means all samples in the test subset were correctly predicted. Now we can use this model to predict missing \"service\" fields."
   ]
  },
  {
   "cell_type": "code",
   "execution_count": null,
   "id": "07bcd35e-59dc-4852-a20a-c74432d876ce",
   "metadata": {},
   "outputs": [],
   "source": [
    "# Predict \"service\" for missing values\n",
    "srv_predictions = srv_knn.predict(data_df_no_service[srv_training_columns])\n",
    "\n",
    "# Update the original data set with predicted \"service\" values\n",
    "df.loc[df[\"service\"].isna(), \"service\"] = srv_predictions"
   ]
  },
  {
   "cell_type": "code",
   "execution_count": null,
   "id": "caaa7846-500e-4f6e-99bf-8a750afe9f99",
   "metadata": {},
   "outputs": [],
   "source": [
    "# To preserve hidden correlations with other features in the dataset, we will use a KNN imputer to estimate the missing values based on relationships with other numerical features.\n",
    "# numerical_features = df.drop(\"label\", axis=1).select_dtypes(include=\"number\").columns\n",
    "# knn_imputer = KNNImputer()\n",
    "# data_df_after_imputing = knn_imputer.fit_transform(df[numerical_features])\n",
    "# data_df_after_imputing = pd.df(data_df_after_imputing, columns=numerical_features)"
   ]
  },
  {
   "cell_type": "code",
   "execution_count": null,
   "id": "21710c10-909b-4a79-8df0-f27ae36bf514",
   "metadata": {},
   "outputs": [],
   "source": [
    "# Update original data set to fill missing values with imputed ones\n",
    "# df[numerical_features] = data_df_after_imputing"
   ]
  },
  {
   "cell_type": "code",
   "execution_count": null,
   "id": "74b76636-d618-418c-8953-9fcf0532f8fe",
   "metadata": {},
   "outputs": [],
   "source": [
    "# Confirm all missing values were successfully imputed\n",
    "# df.isnull().sum().sort_values(ascending=False)"
   ]
  },
  {
   "cell_type": "code",
   "execution_count": null,
   "id": "9e53de7d-a750-4194-89d6-78df4aa089af",
   "metadata": {},
   "outputs": [],
   "source": [
    "# Check statistics for numerical features\n",
    "numerical_features = [\"id.orig_h\", \"id.orig_p\", \"id.resp_h\", \"id.resp_p\", \"duration\", \"orig_bytes\", \"resp_bytes\", \"missed_bytes\", \"orig_pkts\", \"orig_ip_bytes\",\t\"resp_pkts\", \"resp_ip_bytes\"]\n",
    "df[numerical_features].describe()"
   ]
  },
  {
   "cell_type": "code",
   "execution_count": null,
   "id": "392c76f4-b27a-44b5-8493-cdfe43f4a63f",
   "metadata": {},
   "outputs": [],
   "source": [
    "# Initialize and apply MinMaxScaler scaler\n",
    "min_max_scaler = MinMaxScaler()\n",
    "df[numerical_features] = min_max_scaler.fit_transform(df[numerical_features])"
   ]
  },
  {
   "cell_type": "code",
   "execution_count": null,
   "id": "1fae7730-00f7-4c5b-b813-37b599efc613",
   "metadata": {},
   "outputs": [],
   "source": [
    "# Check statistics for scaled features\n",
    "df[numerical_features].describe()"
   ]
  },
  {
   "cell_type": "code",
   "execution_count": null,
   "id": "2a0fe189-1fac-43bd-bc7c-986b117f4779",
   "metadata": {},
   "outputs": [],
   "source": [
    "# Look for categorical features in the dataset\n",
    "df.info()"
   ]
  },
  {
   "cell_type": "markdown",
   "id": "a7cc1104-0289-4131-9796-fd3ae20fac08",
   "metadata": {},
   "source": [
    "- Since all categorical features don't imply an ordered relationship between their values, they can be encoded using One-Hot Encoding.\n",
    "- We need first to check features with rare values and map them to \"other\", in order to avoid sparse columns with statistically negligible impact and higher computational effect."
   ]
  },
  {
   "cell_type": "code",
   "execution_count": null,
   "id": "2fef9689-c494-4f42-9b53-2eff6c6af349",
   "metadata": {},
   "outputs": [],
   "source": [
    "# Check the number of unique values in each feature\n",
    "categorical_features = [\"proto\",\"service\",\"conn_state\",\"history\"]\n",
    "for c in categorical_features:\n",
    "    print(f\"Column ({c}) has ({df[c].nunique()}) distinct values.\")"
   ]
  },
  {
   "cell_type": "code",
   "execution_count": null,
   "id": "3a7e9d42-c9b7-470e-9456-07f097a21afb",
   "metadata": {},
   "outputs": [],
   "source": [
    "# Check values of \"history\" because it has too many unique values.\n",
    "history_val_counts = df[\"history\"].value_counts()\n",
    "history_val_counts"
   ]
  },
  {
   "cell_type": "code",
   "execution_count": null,
   "id": "7f43ac08-3393-41e2-84be-2b3b7cf617d3",
   "metadata": {},
   "outputs": [],
   "source": [
    "# Map values to their frequencies\n",
    "history_freq_map = df[\"history\"].map(history_val_counts)\n",
    "\n",
    "# Replace low frequent values in \"history\" with \"Other\" using the corresponding frequency map\n",
    "df[\"history\"] = df[\"history\"].mask(history_freq_map < 10, \"Other\")\n",
    "\n",
    "# Check \"history\" values after mapping\n",
    "df[\"history\"].value_counts()"
   ]
  },
  {
   "cell_type": "code",
   "execution_count": null,
   "id": "35893f1b-8400-4b99-abea-0567520324f7",
   "metadata": {},
   "outputs": [],
   "source": [
    "# Initialize the encoder with its default parameters\n",
    "ohe = OneHotEncoder()\n",
    "\n",
    "# Fit the encoder to categorical features in the dataset\n",
    "encoded_features = ohe.fit_transform(df[categorical_features])\n",
    "\n",
    "# Create a dataframe of encoded features\n",
    "encoded_features_df = pd.DataFrame(encoded_features.toarray(), columns=ohe.get_feature_names_out())\n",
    "\n",
    "# Check the results of encoding\n",
    "encoded_features_df"
   ]
  },
  {
   "cell_type": "code",
   "execution_count": null,
   "id": "974d9ad0-4e7a-417c-9738-9377223859e3",
   "metadata": {},
   "outputs": [],
   "source": [
    "# Merge encoded features with the dataset and drop original columns\n",
    "df = pd.concat([df, encoded_features_df], axis=1).drop(categorical_features, axis=1)"
   ]
  },
  {
   "cell_type": "code",
   "execution_count": null,
   "id": "6f18de34-581f-4138-a977-de2b5c8e8d72",
   "metadata": {},
   "outputs": [],
   "source": [
    "# Check the final version of the dataset\n",
    "df"
   ]
  },
  {
   "cell_type": "code",
   "execution_count": null,
   "id": "dac74e22-9184-4ccd-acb1-26a92ee948fc",
   "metadata": {},
   "outputs": [],
   "source": [
    "# Check not null values and attribute types\n",
    "df.info()"
   ]
  },
  {
   "cell_type": "markdown",
   "id": "044ecf90-79c2-4ab7-a314-a1901788ea9e",
   "metadata": {},
   "source": [
    "### 4. STORING PROCESSED DATASET"
   ]
  },
  {
   "cell_type": "code",
   "execution_count": null,
   "id": "04e96506-4ae1-43dd-8252-362fbe99debb",
   "metadata": {},
   "outputs": [],
   "source": [
    "# Save a new csv file (updated/changed column names)\n",
    "df.to_csv('../CSV-data/processed/iot23_combined_processed.csv')"
   ]
  }
 ],
 "metadata": {
  "kernelspec": {
   "display_name": "Python 3 (ipykernel)",
   "language": "python",
   "name": "python3"
  },
  "language_info": {
   "codemirror_mode": {
    "name": "ipython",
    "version": 3
   },
   "file_extension": ".py",
   "mimetype": "text/x-python",
   "name": "python",
   "nbconvert_exporter": "python",
   "pygments_lexer": "ipython3",
   "version": "3.10.12"
  }
 },
 "nbformat": 4,
 "nbformat_minor": 5
}
